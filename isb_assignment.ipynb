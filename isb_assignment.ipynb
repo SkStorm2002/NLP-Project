{
 "cells": [
  {
   "attachments": {},
   "cell_type": "markdown",
   "metadata": {},
   "source": [
    "## Internship_DL Assignment\n",
    "### Shrey Kamoji\n"
   ]
  },
  {
   "attachments": {},
   "cell_type": "markdown",
   "metadata": {},
   "source": [
    "#### Part 1 || Data Loading"
   ]
  },
  {
   "cell_type": "code",
   "execution_count": 1,
   "metadata": {},
   "outputs": [],
   "source": [
    "import pandas as pd\n",
    "import numpy as np\n",
    "import matplotlib.pyplot as plt\n",
    "import seaborn as sns\n",
    "import warnings\n",
    "warnings.filterwarnings('ignore')\n",
    "%matplotlib inline"
   ]
  },
  {
   "cell_type": "code",
   "execution_count": 2,
   "metadata": {},
   "outputs": [
    {
     "data": {
      "text/html": [
       "<div>\n",
       "<style scoped>\n",
       "    .dataframe tbody tr th:only-of-type {\n",
       "        vertical-align: middle;\n",
       "    }\n",
       "\n",
       "    .dataframe tbody tr th {\n",
       "        vertical-align: top;\n",
       "    }\n",
       "\n",
       "    .dataframe thead th {\n",
       "        text-align: right;\n",
       "    }\n",
       "</style>\n",
       "<table border=\"1\" class=\"dataframe\">\n",
       "  <thead>\n",
       "    <tr style=\"text-align: right;\">\n",
       "      <th></th>\n",
       "      <th>_index</th>\n",
       "      <th>_type</th>\n",
       "      <th>_id</th>\n",
       "      <th>_score</th>\n",
       "      <th>_source</th>\n",
       "    </tr>\n",
       "  </thead>\n",
       "  <tbody>\n",
       "    <tr>\n",
       "      <th>0</th>\n",
       "      <td>complaint-public-v2</td>\n",
       "      <td>complaint</td>\n",
       "      <td>3211475</td>\n",
       "      <td>0</td>\n",
       "      <td>{'tags': None, 'zip_code': '90301', 'complaint...</td>\n",
       "    </tr>\n",
       "    <tr>\n",
       "      <th>1</th>\n",
       "      <td>complaint-public-v2</td>\n",
       "      <td>complaint</td>\n",
       "      <td>3229299</td>\n",
       "      <td>0</td>\n",
       "      <td>{'tags': 'Servicemember', 'zip_code': '319XX',...</td>\n",
       "    </tr>\n",
       "    <tr>\n",
       "      <th>2</th>\n",
       "      <td>complaint-public-v2</td>\n",
       "      <td>complaint</td>\n",
       "      <td>3199379</td>\n",
       "      <td>0</td>\n",
       "      <td>{'tags': None, 'zip_code': '77069', 'complaint...</td>\n",
       "    </tr>\n",
       "    <tr>\n",
       "      <th>3</th>\n",
       "      <td>complaint-public-v2</td>\n",
       "      <td>complaint</td>\n",
       "      <td>2673060</td>\n",
       "      <td>0</td>\n",
       "      <td>{'tags': None, 'zip_code': '48066', 'complaint...</td>\n",
       "    </tr>\n",
       "    <tr>\n",
       "      <th>4</th>\n",
       "      <td>complaint-public-v2</td>\n",
       "      <td>complaint</td>\n",
       "      <td>3203545</td>\n",
       "      <td>0</td>\n",
       "      <td>{'tags': None, 'zip_code': '10473', 'complaint...</td>\n",
       "    </tr>\n",
       "  </tbody>\n",
       "</table>\n",
       "</div>"
      ],
      "text/plain": [
       "                _index      _type      _id  _score  \\\n",
       "0  complaint-public-v2  complaint  3211475       0   \n",
       "1  complaint-public-v2  complaint  3229299       0   \n",
       "2  complaint-public-v2  complaint  3199379       0   \n",
       "3  complaint-public-v2  complaint  2673060       0   \n",
       "4  complaint-public-v2  complaint  3203545       0   \n",
       "\n",
       "                                             _source  \n",
       "0  {'tags': None, 'zip_code': '90301', 'complaint...  \n",
       "1  {'tags': 'Servicemember', 'zip_code': '319XX',...  \n",
       "2  {'tags': None, 'zip_code': '77069', 'complaint...  \n",
       "3  {'tags': None, 'zip_code': '48066', 'complaint...  \n",
       "4  {'tags': None, 'zip_code': '10473', 'complaint...  "
      ]
     },
     "execution_count": 2,
     "metadata": {},
     "output_type": "execute_result"
    }
   ],
   "source": [
    "df = pd.read_json('complaints_data.json')\n",
    "df.head()"
   ]
  },
  {
   "cell_type": "code",
   "execution_count": 3,
   "metadata": {},
   "outputs": [
    {
     "data": {
      "text/html": [
       "<div>\n",
       "<style scoped>\n",
       "    .dataframe tbody tr th:only-of-type {\n",
       "        vertical-align: middle;\n",
       "    }\n",
       "\n",
       "    .dataframe tbody tr th {\n",
       "        vertical-align: top;\n",
       "    }\n",
       "\n",
       "    .dataframe thead th {\n",
       "        text-align: right;\n",
       "    }\n",
       "</style>\n",
       "<table border=\"1\" class=\"dataframe\">\n",
       "  <thead>\n",
       "    <tr style=\"text-align: right;\">\n",
       "      <th></th>\n",
       "      <th>tags</th>\n",
       "      <th>zip_code</th>\n",
       "      <th>complaint_id</th>\n",
       "      <th>issue</th>\n",
       "      <th>date_received</th>\n",
       "      <th>state</th>\n",
       "      <th>consumer_disputed</th>\n",
       "      <th>product</th>\n",
       "      <th>company_response</th>\n",
       "      <th>company</th>\n",
       "      <th>submitted_via</th>\n",
       "      <th>date_sent_to_company</th>\n",
       "      <th>company_public_response</th>\n",
       "      <th>sub_product</th>\n",
       "      <th>timely</th>\n",
       "      <th>complaint_what_happened</th>\n",
       "      <th>sub_issue</th>\n",
       "      <th>consumer_consent_provided</th>\n",
       "    </tr>\n",
       "  </thead>\n",
       "  <tbody>\n",
       "    <tr>\n",
       "      <th>0</th>\n",
       "      <td>None</td>\n",
       "      <td>90301</td>\n",
       "      <td>3211475</td>\n",
       "      <td>Attempts to collect debt not owed</td>\n",
       "      <td>2019-04-13T12:00:00-05:00</td>\n",
       "      <td>CA</td>\n",
       "      <td>N/A</td>\n",
       "      <td>Debt collection</td>\n",
       "      <td>Closed with explanation</td>\n",
       "      <td>JPMORGAN CHASE &amp; CO.</td>\n",
       "      <td>Web</td>\n",
       "      <td>2019-04-13T12:00:00-05:00</td>\n",
       "      <td>None</td>\n",
       "      <td>Credit card debt</td>\n",
       "      <td>Yes</td>\n",
       "      <td></td>\n",
       "      <td>Debt is not yours</td>\n",
       "      <td>Consent not provided</td>\n",
       "    </tr>\n",
       "    <tr>\n",
       "      <th>1</th>\n",
       "      <td>Servicemember</td>\n",
       "      <td>319XX</td>\n",
       "      <td>3229299</td>\n",
       "      <td>Written notification about debt</td>\n",
       "      <td>2019-05-01T12:00:00-05:00</td>\n",
       "      <td>GA</td>\n",
       "      <td>N/A</td>\n",
       "      <td>Debt collection</td>\n",
       "      <td>Closed with explanation</td>\n",
       "      <td>JPMORGAN CHASE &amp; CO.</td>\n",
       "      <td>Web</td>\n",
       "      <td>2019-05-01T12:00:00-05:00</td>\n",
       "      <td>None</td>\n",
       "      <td>Credit card debt</td>\n",
       "      <td>Yes</td>\n",
       "      <td>Good morning my name is XXXX XXXX and I apprec...</td>\n",
       "      <td>Didn't receive enough information to verify debt</td>\n",
       "      <td>Consent provided</td>\n",
       "    </tr>\n",
       "    <tr>\n",
       "      <th>2</th>\n",
       "      <td>None</td>\n",
       "      <td>77069</td>\n",
       "      <td>3199379</td>\n",
       "      <td>Other features, terms, or problems</td>\n",
       "      <td>2019-04-02T12:00:00-05:00</td>\n",
       "      <td>TX</td>\n",
       "      <td>N/A</td>\n",
       "      <td>Credit card or prepaid card</td>\n",
       "      <td>Closed with explanation</td>\n",
       "      <td>JPMORGAN CHASE &amp; CO.</td>\n",
       "      <td>Web</td>\n",
       "      <td>2019-04-02T12:00:00-05:00</td>\n",
       "      <td>None</td>\n",
       "      <td>General-purpose credit card or charge card</td>\n",
       "      <td>Yes</td>\n",
       "      <td>I upgraded my XXXX XXXX card in XX/XX/2018 and...</td>\n",
       "      <td>Problem with rewards from credit card</td>\n",
       "      <td>Consent provided</td>\n",
       "    </tr>\n",
       "    <tr>\n",
       "      <th>3</th>\n",
       "      <td>None</td>\n",
       "      <td>48066</td>\n",
       "      <td>2673060</td>\n",
       "      <td>Trouble during payment process</td>\n",
       "      <td>2017-09-13T12:00:00-05:00</td>\n",
       "      <td>MI</td>\n",
       "      <td>N/A</td>\n",
       "      <td>Mortgage</td>\n",
       "      <td>Closed with explanation</td>\n",
       "      <td>JPMORGAN CHASE &amp; CO.</td>\n",
       "      <td>Web</td>\n",
       "      <td>2017-09-14T12:00:00-05:00</td>\n",
       "      <td>None</td>\n",
       "      <td>Conventional home mortgage</td>\n",
       "      <td>Yes</td>\n",
       "      <td></td>\n",
       "      <td>None</td>\n",
       "      <td>Consent not provided</td>\n",
       "    </tr>\n",
       "    <tr>\n",
       "      <th>4</th>\n",
       "      <td>None</td>\n",
       "      <td>10473</td>\n",
       "      <td>3203545</td>\n",
       "      <td>Fees or interest</td>\n",
       "      <td>2019-04-05T12:00:00-05:00</td>\n",
       "      <td>NY</td>\n",
       "      <td>N/A</td>\n",
       "      <td>Credit card or prepaid card</td>\n",
       "      <td>Closed with explanation</td>\n",
       "      <td>JPMORGAN CHASE &amp; CO.</td>\n",
       "      <td>Referral</td>\n",
       "      <td>2019-04-05T12:00:00-05:00</td>\n",
       "      <td>None</td>\n",
       "      <td>General-purpose credit card or charge card</td>\n",
       "      <td>Yes</td>\n",
       "      <td></td>\n",
       "      <td>Charged too much interest</td>\n",
       "      <td>N/A</td>\n",
       "    </tr>\n",
       "  </tbody>\n",
       "</table>\n",
       "</div>"
      ],
      "text/plain": [
       "            tags zip_code complaint_id                               issue  \\\n",
       "0           None    90301      3211475   Attempts to collect debt not owed   \n",
       "1  Servicemember    319XX      3229299     Written notification about debt   \n",
       "2           None    77069      3199379  Other features, terms, or problems   \n",
       "3           None    48066      2673060      Trouble during payment process   \n",
       "4           None    10473      3203545                    Fees or interest   \n",
       "\n",
       "               date_received state consumer_disputed  \\\n",
       "0  2019-04-13T12:00:00-05:00    CA               N/A   \n",
       "1  2019-05-01T12:00:00-05:00    GA               N/A   \n",
       "2  2019-04-02T12:00:00-05:00    TX               N/A   \n",
       "3  2017-09-13T12:00:00-05:00    MI               N/A   \n",
       "4  2019-04-05T12:00:00-05:00    NY               N/A   \n",
       "\n",
       "                       product         company_response               company  \\\n",
       "0              Debt collection  Closed with explanation  JPMORGAN CHASE & CO.   \n",
       "1              Debt collection  Closed with explanation  JPMORGAN CHASE & CO.   \n",
       "2  Credit card or prepaid card  Closed with explanation  JPMORGAN CHASE & CO.   \n",
       "3                     Mortgage  Closed with explanation  JPMORGAN CHASE & CO.   \n",
       "4  Credit card or prepaid card  Closed with explanation  JPMORGAN CHASE & CO.   \n",
       "\n",
       "  submitted_via       date_sent_to_company company_public_response  \\\n",
       "0           Web  2019-04-13T12:00:00-05:00                    None   \n",
       "1           Web  2019-05-01T12:00:00-05:00                    None   \n",
       "2           Web  2019-04-02T12:00:00-05:00                    None   \n",
       "3           Web  2017-09-14T12:00:00-05:00                    None   \n",
       "4      Referral  2019-04-05T12:00:00-05:00                    None   \n",
       "\n",
       "                                  sub_product timely  \\\n",
       "0                            Credit card debt    Yes   \n",
       "1                            Credit card debt    Yes   \n",
       "2  General-purpose credit card or charge card    Yes   \n",
       "3                  Conventional home mortgage    Yes   \n",
       "4  General-purpose credit card or charge card    Yes   \n",
       "\n",
       "                             complaint_what_happened  \\\n",
       "0                                                      \n",
       "1  Good morning my name is XXXX XXXX and I apprec...   \n",
       "2  I upgraded my XXXX XXXX card in XX/XX/2018 and...   \n",
       "3                                                      \n",
       "4                                                      \n",
       "\n",
       "                                          sub_issue consumer_consent_provided  \n",
       "0                                 Debt is not yours      Consent not provided  \n",
       "1  Didn't receive enough information to verify debt          Consent provided  \n",
       "2             Problem with rewards from credit card          Consent provided  \n",
       "3                                              None      Consent not provided  \n",
       "4                         Charged too much interest                       N/A  "
      ]
     },
     "execution_count": 3,
     "metadata": {},
     "output_type": "execute_result"
    }
   ],
   "source": [
    "tags = []\n",
    "zip_code = []\n",
    "complaint_id = []\n",
    "issue = []\n",
    "date_received =[]\n",
    "state =[]\n",
    "consumer_disputed = []\n",
    "product = []\n",
    "company_response = []\n",
    "company =[]\n",
    "submitted_via =[]\n",
    "date_sent_to_company = []\n",
    "company_public_response =[]\n",
    "sub_product =[]\n",
    "timely =[]\n",
    "complaint_what_happened =[]\n",
    "sub_issue = []\n",
    "consumer_consent_provided = []\n",
    "\n",
    "for item in df['_source']:\n",
    "    tags.append(item['tags'])\n",
    "    zip_code.append(item['zip_code'])\n",
    "    complaint_id.append(item['complaint_id'])\n",
    "    issue.append(item['issue'])\n",
    "    date_received.append(item['date_received'])\n",
    "    state.append(item['state'])\n",
    "    consumer_disputed.append(item['consumer_disputed'])\n",
    "    product.append(item['product'])\n",
    "    company_response.append(item['company_response'])\n",
    "    company.append(item['company'])\n",
    "    submitted_via.append(item['submitted_via'])\n",
    "    date_sent_to_company.append(item['date_sent_to_company'])\n",
    "    company_public_response.append(item['company_public_response'])\n",
    "    sub_product.append(item['sub_product'])\n",
    "    timely.append(item['timely'])\n",
    "    complaint_what_happened.append(item['complaint_what_happened'])\n",
    "    sub_issue.append(item['sub_issue'])\n",
    "    consumer_consent_provided.append(item['consumer_consent_provided'])\n",
    "    \n",
    "data = {\n",
    "        'tags':tags,\n",
    "        'zip_code':zip_code,\n",
    "        'complaint_id' :complaint_id,\n",
    "        'issue':issue,\n",
    "        'date_received':date_received,\n",
    "        'state':state,\n",
    "        'consumer_disputed' :consumer_disputed,\n",
    "        'product':product,\n",
    "        'company_response':company_response,\n",
    "        'company':company,\n",
    "        'submitted_via':submitted_via,\n",
    "        'date_sent_to_company':date_sent_to_company,\n",
    "        'company_public_response':company_public_response,\n",
    "        'sub_product':sub_product,\n",
    "        'timely':timely,\n",
    "        'complaint_what_happened':complaint_what_happened,\n",
    "        'sub_issue':sub_issue,\n",
    "        'consumer_consent_provided':consumer_consent_provided\n",
    "    }   \n",
    "\n",
    "data_df = pd.DataFrame(data)\n",
    "data_df.head()"
   ]
  },
  {
   "cell_type": "code",
   "execution_count": 4,
   "metadata": {},
   "outputs": [
    {
     "name": "stdout",
     "output_type": "stream",
     "text": [
      "<class 'pandas.core.frame.DataFrame'>\n",
      "RangeIndex: 78313 entries, 0 to 78312\n",
      "Data columns (total 18 columns):\n",
      " #   Column                     Non-Null Count  Dtype \n",
      "---  ------                     --------------  ----- \n",
      " 0   tags                       10900 non-null  object\n",
      " 1   zip_code                   71556 non-null  object\n",
      " 2   complaint_id               78313 non-null  object\n",
      " 3   issue                      78313 non-null  object\n",
      " 4   date_received              78313 non-null  object\n",
      " 5   state                      76322 non-null  object\n",
      " 6   consumer_disputed          78313 non-null  object\n",
      " 7   product                    78313 non-null  object\n",
      " 8   company_response           78313 non-null  object\n",
      " 9   company                    78313 non-null  object\n",
      " 10  submitted_via              78313 non-null  object\n",
      " 11  date_sent_to_company       78313 non-null  object\n",
      " 12  company_public_response    4 non-null      object\n",
      " 13  sub_product                67742 non-null  object\n",
      " 14  timely                     78313 non-null  object\n",
      " 15  complaint_what_happened    78313 non-null  object\n",
      " 16  sub_issue                  32016 non-null  object\n",
      " 17  consumer_consent_provided  77305 non-null  object\n",
      "dtypes: object(18)\n",
      "memory usage: 10.8+ MB\n"
     ]
    }
   ],
   "source": [
    "data_df.info()"
   ]
  },
  {
   "attachments": {},
   "cell_type": "markdown",
   "metadata": {},
   "source": [
    "### Part 2 || Data Cleaning"
   ]
  },
  {
   "cell_type": "code",
   "execution_count": 5,
   "metadata": {},
   "outputs": [
    {
     "data": {
      "text/html": [
       "<div>\n",
       "<style scoped>\n",
       "    .dataframe tbody tr th:only-of-type {\n",
       "        vertical-align: middle;\n",
       "    }\n",
       "\n",
       "    .dataframe tbody tr th {\n",
       "        vertical-align: top;\n",
       "    }\n",
       "\n",
       "    .dataframe thead tr th {\n",
       "        text-align: left;\n",
       "    }\n",
       "</style>\n",
       "<table border=\"1\" class=\"dataframe\">\n",
       "  <thead>\n",
       "    <tr>\n",
       "      <th></th>\n",
       "      <th>tags</th>\n",
       "      <th>zip_code</th>\n",
       "      <th>complaint_id</th>\n",
       "      <th>issue</th>\n",
       "      <th>date_received</th>\n",
       "      <th>state</th>\n",
       "      <th>consumer_disputed</th>\n",
       "      <th>product</th>\n",
       "      <th>company_response</th>\n",
       "      <th>company</th>\n",
       "      <th>submitted_via</th>\n",
       "      <th>date_sent_to_company</th>\n",
       "      <th>company_public_response</th>\n",
       "      <th>sub_product</th>\n",
       "      <th>timely</th>\n",
       "      <th>complaint_what_happened</th>\n",
       "      <th>sub_issue</th>\n",
       "      <th>consumer_consent_provided</th>\n",
       "    </tr>\n",
       "    <tr>\n",
       "      <th></th>\n",
       "      <th>67413</th>\n",
       "      <th>6757</th>\n",
       "      <th>0</th>\n",
       "      <th>0</th>\n",
       "      <th>0</th>\n",
       "      <th>1991</th>\n",
       "      <th>0</th>\n",
       "      <th>0</th>\n",
       "      <th>0</th>\n",
       "      <th>0</th>\n",
       "      <th>0</th>\n",
       "      <th>0</th>\n",
       "      <th>78309</th>\n",
       "      <th>10571</th>\n",
       "      <th>0</th>\n",
       "      <th>0</th>\n",
       "      <th>46297</th>\n",
       "      <th>1008</th>\n",
       "    </tr>\n",
       "  </thead>\n",
       "  <tbody>\n",
       "  </tbody>\n",
       "</table>\n",
       "</div>"
      ],
      "text/plain": [
       "Empty DataFrame\n",
       "Columns: [(tags, 67413), (zip_code, 6757), (complaint_id, 0), (issue, 0), (date_received, 0), (state, 1991), (consumer_disputed, 0), (product, 0), (company_response, 0), (company, 0), (submitted_via, 0), (date_sent_to_company, 0), (company_public_response, 78309), (sub_product, 10571), (timely, 0), (complaint_what_happened, 0), (sub_issue, 46297), (consumer_consent_provided, 1008)]\n",
       "Index: []"
      ]
     },
     "execution_count": 5,
     "metadata": {},
     "output_type": "execute_result"
    }
   ],
   "source": [
    "nun_cnt_data = []\n",
    "col_list = []\n",
    "for col in data_df:\n",
    "    col_list.append(col)\n",
    "    nun_cnt_data.append(data_df[col].isna().sum())\n",
    "nun_df = pd.DataFrame(columns=[col_list,nun_cnt_data])\n",
    "nun_df"
   ]
  },
  {
   "cell_type": "code",
   "execution_count": 6,
   "metadata": {},
   "outputs": [],
   "source": [
    "data_df['complaint_what_happened'].fillna(' ', inplace = True)\n",
    "data_df['sub_issue'].fillna(' ', inplace = True)\n",
    "data_df['sub_product'].fillna(' ', inplace = True)\n",
    "data_df['state'].fillna(' ', inplace = True)"
   ]
  },
  {
   "cell_type": "code",
   "execution_count": 7,
   "metadata": {},
   "outputs": [
    {
     "data": {
      "text/html": [
       "<div>\n",
       "<style scoped>\n",
       "    .dataframe tbody tr th:only-of-type {\n",
       "        vertical-align: middle;\n",
       "    }\n",
       "\n",
       "    .dataframe tbody tr th {\n",
       "        vertical-align: top;\n",
       "    }\n",
       "\n",
       "    .dataframe thead tr th {\n",
       "        text-align: left;\n",
       "    }\n",
       "</style>\n",
       "<table border=\"1\" class=\"dataframe\">\n",
       "  <thead>\n",
       "    <tr>\n",
       "      <th></th>\n",
       "      <th>tags</th>\n",
       "      <th>zip_code</th>\n",
       "      <th>complaint_id</th>\n",
       "      <th>issue</th>\n",
       "      <th>date_received</th>\n",
       "      <th>state</th>\n",
       "      <th>consumer_disputed</th>\n",
       "      <th>product</th>\n",
       "      <th>company_response</th>\n",
       "      <th>company</th>\n",
       "      <th>submitted_via</th>\n",
       "      <th>date_sent_to_company</th>\n",
       "      <th>company_public_response</th>\n",
       "      <th>sub_product</th>\n",
       "      <th>timely</th>\n",
       "      <th>complaint_what_happened</th>\n",
       "      <th>sub_issue</th>\n",
       "      <th>consumer_consent_provided</th>\n",
       "    </tr>\n",
       "    <tr>\n",
       "      <th></th>\n",
       "      <th>67413</th>\n",
       "      <th>6757</th>\n",
       "      <th>0</th>\n",
       "      <th>0</th>\n",
       "      <th>0</th>\n",
       "      <th>0</th>\n",
       "      <th>0</th>\n",
       "      <th>0</th>\n",
       "      <th>0</th>\n",
       "      <th>0</th>\n",
       "      <th>0</th>\n",
       "      <th>0</th>\n",
       "      <th>78309</th>\n",
       "      <th>0</th>\n",
       "      <th>0</th>\n",
       "      <th>0</th>\n",
       "      <th>0</th>\n",
       "      <th>1008</th>\n",
       "    </tr>\n",
       "  </thead>\n",
       "  <tbody>\n",
       "  </tbody>\n",
       "</table>\n",
       "</div>"
      ],
      "text/plain": [
       "Empty DataFrame\n",
       "Columns: [(tags, 67413), (zip_code, 6757), (complaint_id, 0), (issue, 0), (date_received, 0), (state, 0), (consumer_disputed, 0), (product, 0), (company_response, 0), (company, 0), (submitted_via, 0), (date_sent_to_company, 0), (company_public_response, 78309), (sub_product, 0), (timely, 0), (complaint_what_happened, 0), (sub_issue, 0), (consumer_consent_provided, 1008)]\n",
       "Index: []"
      ]
     },
     "execution_count": 7,
     "metadata": {},
     "output_type": "execute_result"
    }
   ],
   "source": [
    "nun_cnt_data = []\n",
    "col_list = []\n",
    "for col in data_df:\n",
    "    col_list.append(col)\n",
    "    nun_cnt_data.append(data_df[col].isna().sum())\n",
    "nun_df = pd.DataFrame(columns=[col_list,nun_cnt_data])\n",
    "nun_df"
   ]
  },
  {
   "cell_type": "code",
   "execution_count": 8,
   "metadata": {},
   "outputs": [
    {
     "data": {
      "text/html": [
       "<div>\n",
       "<style scoped>\n",
       "    .dataframe tbody tr th:only-of-type {\n",
       "        vertical-align: middle;\n",
       "    }\n",
       "\n",
       "    .dataframe tbody tr th {\n",
       "        vertical-align: top;\n",
       "    }\n",
       "\n",
       "    .dataframe thead th {\n",
       "        text-align: right;\n",
       "    }\n",
       "</style>\n",
       "<table border=\"1\" class=\"dataframe\">\n",
       "  <thead>\n",
       "    <tr style=\"text-align: right;\">\n",
       "      <th></th>\n",
       "      <th>tags</th>\n",
       "      <th>state</th>\n",
       "      <th>issue</th>\n",
       "      <th>product</th>\n",
       "      <th>sub_issue</th>\n",
       "      <th>sub_product</th>\n",
       "      <th>submitted_via</th>\n",
       "      <th>consumer_disputed</th>\n",
       "      <th>complaint_what_happened</th>\n",
       "      <th>company_response</th>\n",
       "    </tr>\n",
       "  </thead>\n",
       "  <tbody>\n",
       "    <tr>\n",
       "      <th>0</th>\n",
       "      <td>None</td>\n",
       "      <td>CA</td>\n",
       "      <td>Attempts to collect debt not owed</td>\n",
       "      <td>Debt collection</td>\n",
       "      <td>Debt is not yours</td>\n",
       "      <td>Credit card debt</td>\n",
       "      <td>Web</td>\n",
       "      <td>N/A</td>\n",
       "      <td></td>\n",
       "      <td>Closed with explanation</td>\n",
       "    </tr>\n",
       "    <tr>\n",
       "      <th>1</th>\n",
       "      <td>Servicemember</td>\n",
       "      <td>GA</td>\n",
       "      <td>Written notification about debt</td>\n",
       "      <td>Debt collection</td>\n",
       "      <td>Didn't receive enough information to verify debt</td>\n",
       "      <td>Credit card debt</td>\n",
       "      <td>Web</td>\n",
       "      <td>N/A</td>\n",
       "      <td>Good morning my name is XXXX XXXX and I apprec...</td>\n",
       "      <td>Closed with explanation</td>\n",
       "    </tr>\n",
       "    <tr>\n",
       "      <th>2</th>\n",
       "      <td>None</td>\n",
       "      <td>TX</td>\n",
       "      <td>Other features, terms, or problems</td>\n",
       "      <td>Credit card or prepaid card</td>\n",
       "      <td>Problem with rewards from credit card</td>\n",
       "      <td>General-purpose credit card or charge card</td>\n",
       "      <td>Web</td>\n",
       "      <td>N/A</td>\n",
       "      <td>I upgraded my XXXX XXXX card in XX/XX/2018 and...</td>\n",
       "      <td>Closed with explanation</td>\n",
       "    </tr>\n",
       "    <tr>\n",
       "      <th>3</th>\n",
       "      <td>None</td>\n",
       "      <td>MI</td>\n",
       "      <td>Trouble during payment process</td>\n",
       "      <td>Mortgage</td>\n",
       "      <td></td>\n",
       "      <td>Conventional home mortgage</td>\n",
       "      <td>Web</td>\n",
       "      <td>N/A</td>\n",
       "      <td></td>\n",
       "      <td>Closed with explanation</td>\n",
       "    </tr>\n",
       "    <tr>\n",
       "      <th>4</th>\n",
       "      <td>None</td>\n",
       "      <td>NY</td>\n",
       "      <td>Fees or interest</td>\n",
       "      <td>Credit card or prepaid card</td>\n",
       "      <td>Charged too much interest</td>\n",
       "      <td>General-purpose credit card or charge card</td>\n",
       "      <td>Referral</td>\n",
       "      <td>N/A</td>\n",
       "      <td></td>\n",
       "      <td>Closed with explanation</td>\n",
       "    </tr>\n",
       "    <tr>\n",
       "      <th>...</th>\n",
       "      <td>...</td>\n",
       "      <td>...</td>\n",
       "      <td>...</td>\n",
       "      <td>...</td>\n",
       "      <td>...</td>\n",
       "      <td>...</td>\n",
       "      <td>...</td>\n",
       "      <td>...</td>\n",
       "      <td>...</td>\n",
       "      <td>...</td>\n",
       "    </tr>\n",
       "    <tr>\n",
       "      <th>78308</th>\n",
       "      <td>None</td>\n",
       "      <td>NJ</td>\n",
       "      <td>Closing an account</td>\n",
       "      <td>Checking or savings account</td>\n",
       "      <td>Funds not received from closed account</td>\n",
       "      <td>Checking account</td>\n",
       "      <td>Web</td>\n",
       "      <td>N/A</td>\n",
       "      <td></td>\n",
       "      <td>Closed with explanation</td>\n",
       "    </tr>\n",
       "    <tr>\n",
       "      <th>78309</th>\n",
       "      <td>None</td>\n",
       "      <td>CA</td>\n",
       "      <td>Other features, terms, or problems</td>\n",
       "      <td>Credit card or prepaid card</td>\n",
       "      <td>Other problem</td>\n",
       "      <td>General-purpose credit card or charge card</td>\n",
       "      <td>Web</td>\n",
       "      <td>N/A</td>\n",
       "      <td>On Wednesday, XX/XX/XXXX I called Chas, my XXX...</td>\n",
       "      <td>Closed with monetary relief</td>\n",
       "    </tr>\n",
       "    <tr>\n",
       "      <th>78310</th>\n",
       "      <td>None</td>\n",
       "      <td>CA</td>\n",
       "      <td>Problem with a lender or other company chargin...</td>\n",
       "      <td>Checking or savings account</td>\n",
       "      <td>Transaction was not authorized</td>\n",
       "      <td>Checking account</td>\n",
       "      <td>Web</td>\n",
       "      <td>N/A</td>\n",
       "      <td>I am not familiar with XXXX pay and did not un...</td>\n",
       "      <td>Closed with explanation</td>\n",
       "    </tr>\n",
       "    <tr>\n",
       "      <th>78311</th>\n",
       "      <td>None</td>\n",
       "      <td>PA</td>\n",
       "      <td>Other features, terms, or problems</td>\n",
       "      <td>Credit card or prepaid card</td>\n",
       "      <td>Problem with balance transfer</td>\n",
       "      <td>General-purpose credit card or charge card</td>\n",
       "      <td>Web</td>\n",
       "      <td>N/A</td>\n",
       "      <td>I have had flawless credit for 30 yrs. I've ha...</td>\n",
       "      <td>Closed with monetary relief</td>\n",
       "    </tr>\n",
       "    <tr>\n",
       "      <th>78312</th>\n",
       "      <td>None</td>\n",
       "      <td>MI</td>\n",
       "      <td>Payment to acct not credited</td>\n",
       "      <td>Payday loan</td>\n",
       "      <td></td>\n",
       "      <td></td>\n",
       "      <td>Web</td>\n",
       "      <td>Yes</td>\n",
       "      <td>Roughly 10+ years ago I closed out my accounts...</td>\n",
       "      <td>Closed with explanation</td>\n",
       "    </tr>\n",
       "  </tbody>\n",
       "</table>\n",
       "<p>78313 rows × 10 columns</p>\n",
       "</div>"
      ],
      "text/plain": [
       "                tags state                                              issue  \\\n",
       "0               None    CA                  Attempts to collect debt not owed   \n",
       "1      Servicemember    GA                    Written notification about debt   \n",
       "2               None    TX                 Other features, terms, or problems   \n",
       "3               None    MI                     Trouble during payment process   \n",
       "4               None    NY                                   Fees or interest   \n",
       "...              ...   ...                                                ...   \n",
       "78308           None    NJ                                 Closing an account   \n",
       "78309           None    CA                 Other features, terms, or problems   \n",
       "78310           None    CA  Problem with a lender or other company chargin...   \n",
       "78311           None    PA                 Other features, terms, or problems   \n",
       "78312           None    MI                       Payment to acct not credited   \n",
       "\n",
       "                           product  \\\n",
       "0                  Debt collection   \n",
       "1                  Debt collection   \n",
       "2      Credit card or prepaid card   \n",
       "3                         Mortgage   \n",
       "4      Credit card or prepaid card   \n",
       "...                            ...   \n",
       "78308  Checking or savings account   \n",
       "78309  Credit card or prepaid card   \n",
       "78310  Checking or savings account   \n",
       "78311  Credit card or prepaid card   \n",
       "78312                  Payday loan   \n",
       "\n",
       "                                              sub_issue  \\\n",
       "0                                     Debt is not yours   \n",
       "1      Didn't receive enough information to verify debt   \n",
       "2                 Problem with rewards from credit card   \n",
       "3                                                         \n",
       "4                             Charged too much interest   \n",
       "...                                                 ...   \n",
       "78308            Funds not received from closed account   \n",
       "78309                                     Other problem   \n",
       "78310                    Transaction was not authorized   \n",
       "78311                     Problem with balance transfer   \n",
       "78312                                                     \n",
       "\n",
       "                                      sub_product submitted_via  \\\n",
       "0                                Credit card debt           Web   \n",
       "1                                Credit card debt           Web   \n",
       "2      General-purpose credit card or charge card           Web   \n",
       "3                      Conventional home mortgage           Web   \n",
       "4      General-purpose credit card or charge card      Referral   \n",
       "...                                           ...           ...   \n",
       "78308                            Checking account           Web   \n",
       "78309  General-purpose credit card or charge card           Web   \n",
       "78310                            Checking account           Web   \n",
       "78311  General-purpose credit card or charge card           Web   \n",
       "78312                                                       Web   \n",
       "\n",
       "      consumer_disputed                            complaint_what_happened  \\\n",
       "0                   N/A                                                      \n",
       "1                   N/A  Good morning my name is XXXX XXXX and I apprec...   \n",
       "2                   N/A  I upgraded my XXXX XXXX card in XX/XX/2018 and...   \n",
       "3                   N/A                                                      \n",
       "4                   N/A                                                      \n",
       "...                 ...                                                ...   \n",
       "78308               N/A                                                      \n",
       "78309               N/A  On Wednesday, XX/XX/XXXX I called Chas, my XXX...   \n",
       "78310               N/A  I am not familiar with XXXX pay and did not un...   \n",
       "78311               N/A  I have had flawless credit for 30 yrs. I've ha...   \n",
       "78312               Yes  Roughly 10+ years ago I closed out my accounts...   \n",
       "\n",
       "                  company_response  \n",
       "0          Closed with explanation  \n",
       "1          Closed with explanation  \n",
       "2          Closed with explanation  \n",
       "3          Closed with explanation  \n",
       "4          Closed with explanation  \n",
       "...                            ...  \n",
       "78308      Closed with explanation  \n",
       "78309  Closed with monetary relief  \n",
       "78310      Closed with explanation  \n",
       "78311  Closed with monetary relief  \n",
       "78312      Closed with explanation  \n",
       "\n",
       "[78313 rows x 10 columns]"
      ]
     },
     "execution_count": 8,
     "metadata": {},
     "output_type": "execute_result"
    }
   ],
   "source": [
    "#feature selection || including only those with importance\n",
    "final_df = data_df[['tags','state','issue','product','sub_issue','sub_product','submitted_via','consumer_disputed','complaint_what_happened','company_response']]\n",
    "final_df"
   ]
  },
  {
   "attachments": {},
   "cell_type": "markdown",
   "metadata": {},
   "source": [
    "### Part 3 || Data Pre-Processing"
   ]
  },
  {
   "cell_type": "code",
   "execution_count": 9,
   "metadata": {},
   "outputs": [],
   "source": [
    "#pip install nltk"
   ]
  },
  {
   "cell_type": "code",
   "execution_count": 10,
   "metadata": {},
   "outputs": [],
   "source": [
    "#pip install BeautifulSoup"
   ]
  },
  {
   "cell_type": "code",
   "execution_count": 11,
   "metadata": {},
   "outputs": [],
   "source": [
    "#pip install bs4"
   ]
  },
  {
   "cell_type": "code",
   "execution_count": 12,
   "metadata": {},
   "outputs": [
    {
     "name": "stderr",
     "output_type": "stream",
     "text": [
      "[nltk_data] Downloading package wordnet to\n",
      "[nltk_data]     /Users/shreykamoji/nltk_data...\n",
      "[nltk_data]   Package wordnet is already up-to-date!\n"
     ]
    }
   ],
   "source": [
    "import re\n",
    "import nltk\n",
    "from nltk.corpus import stopwords\n",
    "from nltk.tokenize import word_tokenize\n",
    "from nltk.stem import WordNetLemmatizer\n",
    "nltk.download('wordnet')\n",
    "from bs4 import BeautifulSoup\n",
    "\n",
    "\n",
    "def preprocess(q):\n",
    "    if q ==' ' or q == None:\n",
    "        return q\n",
    "    else:\n",
    "        q = str(q).lower().strip()\n",
    "        \n",
    "        tokens = word_tokenize(q)\n",
    "        lemmat = WordNetLemmatizer()\n",
    "        tokens = [lemmat.lemmatize(word) for word in tokens]\n",
    "        q = ' '.join(tokens)\n",
    "\n",
    "\n",
    "        \n",
    "        \n",
    "        q = q.replace('%', ' percent')\n",
    "        q = q.replace('$', ' dollar ')\n",
    "        q = q.replace('₹', ' rupee ')\n",
    "        q = q.replace('€', ' euro ')\n",
    "        q = q.replace('@', ' at ')\n",
    "        \n",
    "    \n",
    "        q = q.replace('[math]', '')\n",
    "        \n",
    "        q = q.replace(',000,000,000 ', 'b ')\n",
    "        q = q.replace(',000,000 ', 'm ')\n",
    "        q = q.replace(',000 ', 'k ')\n",
    "        q = re.sub(r'([0-9]+)000000000', r'\\1b', q)\n",
    "        q = re.sub(r'([0-9]+)000000', r'\\1m', q)\n",
    "        q = re.sub(r'([0-9]+)000', r'\\1k', q)\n",
    "        \n",
    "\n",
    "        contractions = { \n",
    "        \"ain't\": \"am not\",\n",
    "        \"aren't\": \"are not\",\n",
    "        \"can't\": \"can not\",\n",
    "        \"can't've\": \"can not have\",\n",
    "        \"'cause\": \"because\",\n",
    "        \"could've\": \"could have\",\n",
    "        \"couldn't\": \"could not\",\n",
    "        \"couldn't've\": \"could not have\",\n",
    "        \"didn't\": \"did not\",\n",
    "        \"doesn't\": \"does not\",\n",
    "        \"don't\": \"do not\",\n",
    "        \"hadn't\": \"had not\",\n",
    "        \"hadn't've\": \"had not have\",\n",
    "        \"hasn't\": \"has not\",\n",
    "        \"haven't\": \"have not\",\n",
    "        \"he'd\": \"he would\",\n",
    "        \"he'd've\": \"he would have\",\n",
    "        \"he'll\": \"he will\",\n",
    "        \"he'll've\": \"he will have\",\n",
    "        \"he's\": \"he is\",\n",
    "        \"how'd\": \"how did\",\n",
    "        \"how'd'y\": \"how do you\",\n",
    "        \"how'll\": \"how will\",\n",
    "        \"how's\": \"how is\",\n",
    "        \"i'd\": \"i would\",\n",
    "        \"i'd've\": \"i would have\",\n",
    "        \"i'll\": \"i will\",\n",
    "        \"i'll've\": \"i will have\",\n",
    "        \"i'm\": \"i am\",\n",
    "        \"i've\": \"i have\",\n",
    "        \"isn't\": \"is not\",\n",
    "        \"it'd\": \"it would\",\n",
    "        \"it'd've\": \"it would have\",\n",
    "        \"it'll\": \"it will\",\n",
    "        \"it'll've\": \"it will have\",\n",
    "        \"it's\": \"it is\",\n",
    "        \"let's\": \"let us\",\n",
    "        \"ma'am\": \"madam\",\n",
    "        \"mayn't\": \"may not\",\n",
    "        \"might've\": \"might have\",\n",
    "        \"mightn't\": \"might not\",\n",
    "        \"mightn't've\": \"might not have\",\n",
    "        \"must've\": \"must have\",\n",
    "        \"mustn't\": \"must not\",\n",
    "        \"mustn't've\": \"must not have\",\n",
    "        \"needn't\": \"need not\",\n",
    "        \"needn't've\": \"need not have\",\n",
    "        \"o'clock\": \"of the clock\",\n",
    "        \"oughtn't\": \"ought not\",\n",
    "        \"oughtn't've\": \"ought not have\",\n",
    "        \"shan't\": \"shall not\",\n",
    "        \"sha'n't\": \"shall not\",\n",
    "        \"shan't've\": \"shall not have\",\n",
    "        \"she'd\": \"she would\",\n",
    "        \"she'd've\": \"she would have\",\n",
    "        \"she'll\": \"she will\",\n",
    "        \"she'll've\": \"she will have\",\n",
    "        \"she's\": \"she is\",\n",
    "        \"should've\": \"should have\",\n",
    "        \"shouldn't\": \"should not\",\n",
    "        \"shouldn't've\": \"should not have\",\n",
    "        \"so've\": \"so have\",\n",
    "        \"so's\": \"so as\",\n",
    "        \"that'd\": \"that would\",\n",
    "        \"that'd've\": \"that would have\",\n",
    "        \"that's\": \"that is\",\n",
    "        \"there'd\": \"there would\",\n",
    "        \"there'd've\": \"there would have\",\n",
    "        \"there's\": \"there is\",\n",
    "        \"they'd\": \"they would\",\n",
    "        \"they'd've\": \"they would have\",\n",
    "        \"they'll\": \"they will\",\n",
    "        \"they'll've\": \"they will have\",\n",
    "        \"they're\": \"they are\",\n",
    "        \"they've\": \"they have\",\n",
    "        \"to've\": \"to have\",\n",
    "        \"wasn't\": \"was not\",\n",
    "        \"we'd\": \"we would\",\n",
    "        \"we'd've\": \"we would have\",\n",
    "        \"we'll\": \"we will\",\n",
    "        \"we'll've\": \"we will have\",\n",
    "        \"we're\": \"we are\",\n",
    "        \"we've\": \"we have\",\n",
    "        \"weren't\": \"were not\",\n",
    "        \"what'll\": \"what will\",\n",
    "        \"what'll've\": \"what will have\",\n",
    "        \"what're\": \"what are\",\n",
    "        \"what's\": \"what is\",\n",
    "        \"what've\": \"what have\",\n",
    "        \"when's\": \"when is\",\n",
    "        \"when've\": \"when have\",\n",
    "        \"where'd\": \"where did\",\n",
    "        \"where's\": \"where is\",\n",
    "        \"where've\": \"where have\",\n",
    "        \"who'll\": \"who will\",\n",
    "        \"who'll've\": \"who will have\",\n",
    "        \"who's\": \"who is\",\n",
    "        \"who've\": \"who have\",\n",
    "        \"why's\": \"why is\",\n",
    "        \"why've\": \"why have\",\n",
    "        \"will've\": \"will have\",\n",
    "        \"won't\": \"will not\",\n",
    "        \"won't've\": \"will not have\",\n",
    "        \"would've\": \"would have\",\n",
    "        \"wouldn't\": \"would not\",\n",
    "        \"wouldn't've\": \"would not have\",\n",
    "        \"y'all\": \"you all\",\n",
    "        \"y'all'd\": \"you all would\",\n",
    "        \"y'all'd've\": \"you all would have\",\n",
    "        \"y'all're\": \"you all are\",\n",
    "        \"y'all've\": \"you all have\",\n",
    "        \"you'd\": \"you would\",\n",
    "        \"you'd've\": \"you would have\",\n",
    "        \"you'll\": \"you will\",\n",
    "        \"you'll've\": \"you will have\",\n",
    "        \"you're\": \"you are\",\n",
    "        \"you've\": \"you have\"\n",
    "        }\n",
    "\n",
    "        q_decontracted = []\n",
    "\n",
    "        for word in q.split():\n",
    "            if word in contractions:\n",
    "                word = contractions[word]\n",
    "\n",
    "            q_decontracted.append(word)\n",
    "\n",
    "        q = ' '.join(q_decontracted)\n",
    "        q = q.replace(\"'ve\", \" have\")\n",
    "        q = q.replace(\"n't\", \" not\")\n",
    "        q = q.replace(\"'re\", \" are\")\n",
    "        q = q.replace(\"'ll\", \" will\")\n",
    "        \n",
    "        # Removing HTML tags\n",
    "        q = BeautifulSoup(q)\n",
    "        q = q.get_text()\n",
    "        \n",
    "        # Remove punctuations\n",
    "        pattern = re.compile('\\W')\n",
    "        q = re.sub(pattern, ' ', q).strip()\n",
    "        \n",
    "        return q\n"
   ]
  },
  {
   "cell_type": "code",
   "execution_count": 13,
   "metadata": {},
   "outputs": [],
   "source": [
    "final_df['issue']=final_df['issue'].apply(preprocess)\n",
    "final_df['sub_issue']=final_df['sub_issue'].apply(preprocess)\n",
    "final_df['product']=final_df['product'].apply(preprocess)\n",
    "final_df['sub_product']=final_df['sub_product'].apply(preprocess)\n",
    "final_df['complaint_what_happened']=final_df['complaint_what_happened'].apply(preprocess)\n",
    "\n"
   ]
  },
  {
   "cell_type": "code",
   "execution_count": 14,
   "metadata": {},
   "outputs": [
    {
     "data": {
      "text/html": [
       "<div>\n",
       "<style scoped>\n",
       "    .dataframe tbody tr th:only-of-type {\n",
       "        vertical-align: middle;\n",
       "    }\n",
       "\n",
       "    .dataframe tbody tr th {\n",
       "        vertical-align: top;\n",
       "    }\n",
       "\n",
       "    .dataframe thead th {\n",
       "        text-align: right;\n",
       "    }\n",
       "</style>\n",
       "<table border=\"1\" class=\"dataframe\">\n",
       "  <thead>\n",
       "    <tr style=\"text-align: right;\">\n",
       "      <th></th>\n",
       "      <th>tags</th>\n",
       "      <th>state</th>\n",
       "      <th>issue</th>\n",
       "      <th>product</th>\n",
       "      <th>sub_issue</th>\n",
       "      <th>sub_product</th>\n",
       "      <th>submitted_via</th>\n",
       "      <th>consumer_disputed</th>\n",
       "      <th>complaint_what_happened</th>\n",
       "      <th>company_response</th>\n",
       "    </tr>\n",
       "  </thead>\n",
       "  <tbody>\n",
       "    <tr>\n",
       "      <th>0</th>\n",
       "      <td>None</td>\n",
       "      <td>CA</td>\n",
       "      <td>attempt to collect debt not owed</td>\n",
       "      <td>debt collection</td>\n",
       "      <td>debt is not yours</td>\n",
       "      <td>credit card debt</td>\n",
       "      <td>Web</td>\n",
       "      <td>N/A</td>\n",
       "      <td></td>\n",
       "      <td>Closed with explanation</td>\n",
       "    </tr>\n",
       "    <tr>\n",
       "      <th>1</th>\n",
       "      <td>Servicemember</td>\n",
       "      <td>GA</td>\n",
       "      <td>written notification about debt</td>\n",
       "      <td>debt collection</td>\n",
       "      <td>did  not receive enough information to verify ...</td>\n",
       "      <td>credit card debt</td>\n",
       "      <td>Web</td>\n",
       "      <td>N/A</td>\n",
       "      <td>good morning my name is xxxx xxxx and i apprec...</td>\n",
       "      <td>Closed with explanation</td>\n",
       "    </tr>\n",
       "    <tr>\n",
       "      <th>2</th>\n",
       "      <td>None</td>\n",
       "      <td>TX</td>\n",
       "      <td>other feature   term   or problem</td>\n",
       "      <td>credit card or prepaid card</td>\n",
       "      <td>problem with reward from credit card</td>\n",
       "      <td>general purpose credit card or charge card</td>\n",
       "      <td>Web</td>\n",
       "      <td>N/A</td>\n",
       "      <td>i upgraded my xxxx xxxx card in xx xx 2018 and...</td>\n",
       "      <td>Closed with explanation</td>\n",
       "    </tr>\n",
       "    <tr>\n",
       "      <th>3</th>\n",
       "      <td>None</td>\n",
       "      <td>MI</td>\n",
       "      <td>trouble during payment process</td>\n",
       "      <td>mortgage</td>\n",
       "      <td></td>\n",
       "      <td>conventional home mortgage</td>\n",
       "      <td>Web</td>\n",
       "      <td>N/A</td>\n",
       "      <td></td>\n",
       "      <td>Closed with explanation</td>\n",
       "    </tr>\n",
       "    <tr>\n",
       "      <th>4</th>\n",
       "      <td>None</td>\n",
       "      <td>NY</td>\n",
       "      <td>fee or interest</td>\n",
       "      <td>credit card or prepaid card</td>\n",
       "      <td>charged too much interest</td>\n",
       "      <td>general purpose credit card or charge card</td>\n",
       "      <td>Referral</td>\n",
       "      <td>N/A</td>\n",
       "      <td></td>\n",
       "      <td>Closed with explanation</td>\n",
       "    </tr>\n",
       "  </tbody>\n",
       "</table>\n",
       "</div>"
      ],
      "text/plain": [
       "            tags state                              issue  \\\n",
       "0           None    CA   attempt to collect debt not owed   \n",
       "1  Servicemember    GA    written notification about debt   \n",
       "2           None    TX  other feature   term   or problem   \n",
       "3           None    MI     trouble during payment process   \n",
       "4           None    NY                    fee or interest   \n",
       "\n",
       "                       product  \\\n",
       "0              debt collection   \n",
       "1              debt collection   \n",
       "2  credit card or prepaid card   \n",
       "3                     mortgage   \n",
       "4  credit card or prepaid card   \n",
       "\n",
       "                                           sub_issue  \\\n",
       "0                                  debt is not yours   \n",
       "1  did  not receive enough information to verify ...   \n",
       "2               problem with reward from credit card   \n",
       "3                                                      \n",
       "4                          charged too much interest   \n",
       "\n",
       "                                  sub_product submitted_via consumer_disputed  \\\n",
       "0                            credit card debt           Web               N/A   \n",
       "1                            credit card debt           Web               N/A   \n",
       "2  general purpose credit card or charge card           Web               N/A   \n",
       "3                  conventional home mortgage           Web               N/A   \n",
       "4  general purpose credit card or charge card      Referral               N/A   \n",
       "\n",
       "                             complaint_what_happened         company_response  \n",
       "0                                                     Closed with explanation  \n",
       "1  good morning my name is xxxx xxxx and i apprec...  Closed with explanation  \n",
       "2  i upgraded my xxxx xxxx card in xx xx 2018 and...  Closed with explanation  \n",
       "3                                                     Closed with explanation  \n",
       "4                                                     Closed with explanation  "
      ]
     },
     "execution_count": 14,
     "metadata": {},
     "output_type": "execute_result"
    }
   ],
   "source": [
    "final_df.head()"
   ]
  },
  {
   "attachments": {},
   "cell_type": "markdown",
   "metadata": {},
   "source": [
    "### Part 4 || Data Visualization"
   ]
  },
  {
   "cell_type": "code",
   "execution_count": 15,
   "metadata": {},
   "outputs": [
    {
     "data": {
      "text/html": [
       "<div>\n",
       "<style scoped>\n",
       "    .dataframe tbody tr th:only-of-type {\n",
       "        vertical-align: middle;\n",
       "    }\n",
       "\n",
       "    .dataframe tbody tr th {\n",
       "        vertical-align: top;\n",
       "    }\n",
       "\n",
       "    .dataframe thead th {\n",
       "        text-align: right;\n",
       "    }\n",
       "</style>\n",
       "<table border=\"1\" class=\"dataframe\">\n",
       "  <thead>\n",
       "    <tr style=\"text-align: right;\">\n",
       "      <th></th>\n",
       "      <th>tags</th>\n",
       "      <th>state</th>\n",
       "      <th>issue</th>\n",
       "      <th>product</th>\n",
       "      <th>sub_issue</th>\n",
       "      <th>sub_product</th>\n",
       "      <th>submitted_via</th>\n",
       "      <th>consumer_disputed</th>\n",
       "      <th>complaint_what_happened</th>\n",
       "      <th>company_response</th>\n",
       "      <th>comb_text</th>\n",
       "    </tr>\n",
       "  </thead>\n",
       "  <tbody>\n",
       "    <tr>\n",
       "      <th>0</th>\n",
       "      <td>None</td>\n",
       "      <td>CA</td>\n",
       "      <td>attempt to collect debt not owed</td>\n",
       "      <td>debt collection</td>\n",
       "      <td>debt is not yours</td>\n",
       "      <td>credit card debt</td>\n",
       "      <td>Web</td>\n",
       "      <td>N/A</td>\n",
       "      <td></td>\n",
       "      <td>Closed with explanation</td>\n",
       "      <td>CA attempt to collect debt not owed debt colle...</td>\n",
       "    </tr>\n",
       "    <tr>\n",
       "      <th>1</th>\n",
       "      <td>Servicemember</td>\n",
       "      <td>GA</td>\n",
       "      <td>written notification about debt</td>\n",
       "      <td>debt collection</td>\n",
       "      <td>did  not receive enough information to verify ...</td>\n",
       "      <td>credit card debt</td>\n",
       "      <td>Web</td>\n",
       "      <td>N/A</td>\n",
       "      <td>good morning my name is xxxx xxxx and i apprec...</td>\n",
       "      <td>Closed with explanation</td>\n",
       "      <td>Servicemember GA written notification about de...</td>\n",
       "    </tr>\n",
       "    <tr>\n",
       "      <th>2</th>\n",
       "      <td>None</td>\n",
       "      <td>TX</td>\n",
       "      <td>other feature   term   or problem</td>\n",
       "      <td>credit card or prepaid card</td>\n",
       "      <td>problem with reward from credit card</td>\n",
       "      <td>general purpose credit card or charge card</td>\n",
       "      <td>Web</td>\n",
       "      <td>N/A</td>\n",
       "      <td>i upgraded my xxxx xxxx card in xx xx 2018 and...</td>\n",
       "      <td>Closed with explanation</td>\n",
       "      <td>TX other feature   term   or problem credit ca...</td>\n",
       "    </tr>\n",
       "    <tr>\n",
       "      <th>3</th>\n",
       "      <td>None</td>\n",
       "      <td>MI</td>\n",
       "      <td>trouble during payment process</td>\n",
       "      <td>mortgage</td>\n",
       "      <td></td>\n",
       "      <td>conventional home mortgage</td>\n",
       "      <td>Web</td>\n",
       "      <td>N/A</td>\n",
       "      <td></td>\n",
       "      <td>Closed with explanation</td>\n",
       "      <td>MI trouble during payment process mortgage   c...</td>\n",
       "    </tr>\n",
       "    <tr>\n",
       "      <th>4</th>\n",
       "      <td>None</td>\n",
       "      <td>NY</td>\n",
       "      <td>fee or interest</td>\n",
       "      <td>credit card or prepaid card</td>\n",
       "      <td>charged too much interest</td>\n",
       "      <td>general purpose credit card or charge card</td>\n",
       "      <td>Referral</td>\n",
       "      <td>N/A</td>\n",
       "      <td></td>\n",
       "      <td>Closed with explanation</td>\n",
       "      <td>NY fee or interest credit card or prepaid card...</td>\n",
       "    </tr>\n",
       "  </tbody>\n",
       "</table>\n",
       "</div>"
      ],
      "text/plain": [
       "            tags state                              issue  \\\n",
       "0           None    CA   attempt to collect debt not owed   \n",
       "1  Servicemember    GA    written notification about debt   \n",
       "2           None    TX  other feature   term   or problem   \n",
       "3           None    MI     trouble during payment process   \n",
       "4           None    NY                    fee or interest   \n",
       "\n",
       "                       product  \\\n",
       "0              debt collection   \n",
       "1              debt collection   \n",
       "2  credit card or prepaid card   \n",
       "3                     mortgage   \n",
       "4  credit card or prepaid card   \n",
       "\n",
       "                                           sub_issue  \\\n",
       "0                                  debt is not yours   \n",
       "1  did  not receive enough information to verify ...   \n",
       "2               problem with reward from credit card   \n",
       "3                                                      \n",
       "4                          charged too much interest   \n",
       "\n",
       "                                  sub_product submitted_via consumer_disputed  \\\n",
       "0                            credit card debt           Web               N/A   \n",
       "1                            credit card debt           Web               N/A   \n",
       "2  general purpose credit card or charge card           Web               N/A   \n",
       "3                  conventional home mortgage           Web               N/A   \n",
       "4  general purpose credit card or charge card      Referral               N/A   \n",
       "\n",
       "                             complaint_what_happened         company_response  \\\n",
       "0                                                     Closed with explanation   \n",
       "1  good morning my name is xxxx xxxx and i apprec...  Closed with explanation   \n",
       "2  i upgraded my xxxx xxxx card in xx xx 2018 and...  Closed with explanation   \n",
       "3                                                     Closed with explanation   \n",
       "4                                                     Closed with explanation   \n",
       "\n",
       "                                           comb_text  \n",
       "0  CA attempt to collect debt not owed debt colle...  \n",
       "1  Servicemember GA written notification about de...  \n",
       "2  TX other feature   term   or problem credit ca...  \n",
       "3  MI trouble during payment process mortgage   c...  \n",
       "4  NY fee or interest credit card or prepaid card...  "
      ]
     },
     "execution_count": 15,
     "metadata": {},
     "output_type": "execute_result"
    }
   ],
   "source": [
    "#making a combined list for topic modelling\n",
    "final_df['comb_text'] = final_df.apply(lambda row:' '.join(row.dropna().astype(str)), axis = 1)\n",
    "final_df.head()"
   ]
  },
  {
   "cell_type": "code",
   "execution_count": 16,
   "metadata": {},
   "outputs": [
    {
     "data": {
      "image/png": "[encoded data removed]",
      "text/plain": [
       "<Figure size 1200x800 with 1 Axes>"
      ]
     },
     "metadata": {},
     "output_type": "display_data"
    }
   ],
   "source": [
    "# word count distribution\n",
    "final_df['word_count'] = final_df['comb_text'].apply(lambda x: len(x.split()))\n",
    "\n",
    "plt.figure(figsize=(12,8))\n",
    "plt.hist(final_df['word_count'],bins=50, edgecolor ='black')\n",
    "plt.title('Word Count Distribution')\n",
    "plt.xlabel('Number of words')\n",
    "plt.ylabel('Frequency (of the word being used)')\n",
    "plt.show()"
   ]
  },
  {
   "cell_type": "code",
   "execution_count": 17,
   "metadata": {},
   "outputs": [],
   "source": [
    "# n-grams distribution\n",
    "from nltk.util import ngrams\n",
    "from collections import Counter\n",
    "\n",
    "def extract_ngrams(text):\n",
    "    words = nltk.word_tokenize(text)\n",
    "    bigrams = list(ngrams(words,2))\n",
    "    trigrams = list(ngrams(words,3))\n",
    "    return pd.Series([bigrams, trigrams], index=['bigrams', 'trigrams'])\n",
    "\n",
    "final_df[['bigrams','trigrams']] = final_df['comb_text'].apply(extract_ngrams)"
   ]
  },
  {
   "cell_type": "code",
   "execution_count": 18,
   "metadata": {},
   "outputs": [],
   "source": [
    "all_bigrams = [bigrams for sublist in final_df['bigrams'] for bigrams in sublist]\n",
    "bigram_counts = Counter(all_bigrams)\n",
    "\n",
    "all_trigrams = [trigrams for sublist in final_df['trigrams'] for trigrams in sublist]\n",
    "trigram_counts = Counter(all_trigrams)"
   ]
  },
  {
   "cell_type": "code",
   "execution_count": 19,
   "metadata": {},
   "outputs": [
    {
     "data": {
      "image/png": "[encoded data removed]",
      "text/plain": [
       "<Figure size 1200x800 with 1 Axes>"
      ]
     },
     "metadata": {},
     "output_type": "display_data"
    }
   ],
   "source": [
    "plt.figure(figsize=(12, 8))\n",
    "common_bigrams = bigram_counts.most_common(20)  # Display the top 20 common bigrams\n",
    "bigram_labels, bigram_values = zip(*common_bigrams)\n",
    "\n",
    "plt.barh(range(len(bigram_labels)), bigram_values)\n",
    "plt.yticks(range(len(bigram_labels)), bigram_labels)\n",
    "plt.title('Top 20 Bigrams')\n",
    "plt.xlabel('Frequency')\n",
    "plt.ylabel('Bigrams')\n",
    "plt.gca().invert_yaxis()  # Invert the y-axis for better readability\n",
    "plt.show()\n"
   ]
  },
  {
   "cell_type": "code",
   "execution_count": 20,
   "metadata": {},
   "outputs": [
    {
     "data": {
      "image/png": "[encoded data removed]",
      "text/plain": [
       "<Figure size 1200x800 with 1 Axes>"
      ]
     },
     "metadata": {},
     "output_type": "display_data"
    }
   ],
   "source": [
    "plt.figure(figsize=(12, 8))\n",
    "common_trigrams = trigram_counts.most_common(20) \n",
    "trigram_labels, trigram_values = zip(*common_trigrams)\n",
    "\n",
    "plt.barh(range(len(trigram_labels)), trigram_values)\n",
    "plt.yticks(range(len(trigram_labels)), trigram_labels)\n",
    "plt.title('Top 20 trigrams')\n",
    "plt.xlabel('Frequency')\n",
    "plt.ylabel('Bigrams')\n",
    "plt.gca().invert_yaxis()  # Invert the y-axis for better readability\n",
    "plt.show()"
   ]
  },
  {
   "cell_type": "code",
   "execution_count": 22,
   "metadata": {},
   "outputs": [
    {
     "data": {
      "image/png": "[encoded data removed]",
      "text/plain": [
       "<Figure size 1000x1000 with 1 Axes>"
      ]
     },
     "metadata": {},
     "output_type": "display_data"
    }
   ],
   "source": [
    "company_response = final_df['company_response'].value_counts()\n",
    "\n",
    "plt.figure(figsize=(10,10))\n",
    "plt.pie(company_response, labels = company_response.index, autopct= '%1.1f%%')\n",
    "plt.title('Company Responses ')\n",
    "plt.show()"
   ]
  },
  {
   "cell_type": "code",
   "execution_count": 23,
   "metadata": {},
   "outputs": [
    {
     "data": {
      "text/plain": [
       "company_response\n",
       "Closed with explanation            60230\n",
       "Closed with monetary relief        10129\n",
       "Closed with non-monetary relief     4383\n",
       "Closed without relief               2009\n",
       "Closed with relief                   813\n",
       "Closed                               628\n",
       "In progress                          119\n",
       "Untimely response                      2\n",
       "Name: count, dtype: int64"
      ]
     },
     "execution_count": 23,
     "metadata": {},
     "output_type": "execute_result"
    }
   ],
   "source": [
    "company_response"
   ]
  },
  {
   "attachments": {},
   "cell_type": "markdown",
   "metadata": {},
   "source": [
    "### Part 5 || Feature Extraction"
   ]
  },
  {
   "cell_type": "code",
   "execution_count": 24,
   "metadata": {},
   "outputs": [],
   "source": [
    "from sklearn.feature_extraction.text import TfidfVectorizer\n",
    "\n",
    "tfidf = TfidfVectorizer(max_df= 0.6, min_df=2 , stop_words='english')\n",
    "\n",
    "dtm = tfidf.fit_transform(final_df['comb_text']) # document term matrix\n",
    "\n"
   ]
  },
  {
   "attachments": {},
   "cell_type": "markdown",
   "metadata": {},
   "source": [
    "### Part 6 || Topic Modelling"
   ]
  },
  {
   "cell_type": "code",
   "execution_count": 25,
   "metadata": {},
   "outputs": [],
   "source": [
    "from sklearn.decomposition import NMF"
   ]
  },
  {
   "cell_type": "code",
   "execution_count": 26,
   "metadata": {},
   "outputs": [
    {
     "data": {
      "text/html": [
       "<style>#sk-container-id-1 {color: black;}#sk-container-id-1 pre{padding: 0;}#sk-container-id-1 div.sk-toggleable {background-color: white;}#sk-container-id-1 label.sk-toggleable__label {cursor: pointer;display: block;width: 100%;margin-bottom: 0;padding: 0.3em;box-sizing: border-box;text-align: center;}#sk-container-id-1 label.sk-toggleable__label-arrow:before {content: \"▸\";float: left;margin-right: 0.25em;color: #696969;}#sk-container-id-1 label.sk-toggleable__label-arrow:hover:before {color: black;}#sk-container-id-1 div.sk-estimator:hover label.sk-toggleable__label-arrow:before {color: black;}#sk-container-id-1 div.sk-toggleable__content {max-height: 0;max-width: 0;overflow: hidden;text-align: left;background-color: #f0f8ff;}#sk-container-id-1 div.sk-toggleable__content pre {margin: 0.2em;color: black;border-radius: 0.25em;background-color: #f0f8ff;}#sk-container-id-1 input.sk-toggleable__control:checked~div.sk-toggleable__content {max-height: 200px;max-width: 100%;overflow: auto;}#sk-container-id-1 input.sk-toggleable__control:checked~label.sk-toggleable__label-arrow:before {content: \"▾\";}#sk-container-id-1 div.sk-estimator input.sk-toggleable__control:checked~label.sk-toggleable__label {background-color: #d4ebff;}#sk-container-id-1 div.sk-label input.sk-toggleable__control:checked~label.sk-toggleable__label {background-color: #d4ebff;}#sk-container-id-1 input.sk-hidden--visually {border: 0;clip: rect(1px 1px 1px 1px);clip: rect(1px, 1px, 1px, 1px);height: 1px;margin: -1px;overflow: hidden;padding: 0;position: absolute;width: 1px;}#sk-container-id-1 div.sk-estimator {font-family: monospace;background-color: #f0f8ff;border: 1px dotted black;border-radius: 0.25em;box-sizing: border-box;margin-bottom: 0.5em;}#sk-container-id-1 div.sk-estimator:hover {background-color: #d4ebff;}#sk-container-id-1 div.sk-parallel-item::after {content: \"\";width: 100%;border-bottom: 1px solid gray;flex-grow: 1;}#sk-container-id-1 div.sk-label:hover label.sk-toggleable__label {background-color: #d4ebff;}#sk-container-id-1 div.sk-serial::before {content: \"\";position: absolute;border-left: 1px solid gray;box-sizing: border-box;top: 0;bottom: 0;left: 50%;z-index: 0;}#sk-container-id-1 div.sk-serial {display: flex;flex-direction: column;align-items: center;background-color: white;padding-right: 0.2em;padding-left: 0.2em;position: relative;}#sk-container-id-1 div.sk-item {position: relative;z-index: 1;}#sk-container-id-1 div.sk-parallel {display: flex;align-items: stretch;justify-content: center;background-color: white;position: relative;}#sk-container-id-1 div.sk-item::before, #sk-container-id-1 div.sk-parallel-item::before {content: \"\";position: absolute;border-left: 1px solid gray;box-sizing: border-box;top: 0;bottom: 0;left: 50%;z-index: -1;}#sk-container-id-1 div.sk-parallel-item {display: flex;flex-direction: column;z-index: 1;position: relative;background-color: white;}#sk-container-id-1 div.sk-parallel-item:first-child::after {align-self: flex-end;width: 50%;}#sk-container-id-1 div.sk-parallel-item:last-child::after {align-self: flex-start;width: 50%;}#sk-container-id-1 div.sk-parallel-item:only-child::after {width: 0;}#sk-container-id-1 div.sk-dashed-wrapped {border: 1px dashed gray;margin: 0 0.4em 0.5em 0.4em;box-sizing: border-box;padding-bottom: 0.4em;background-color: white;}#sk-container-id-1 div.sk-label label {font-family: monospace;font-weight: bold;display: inline-block;line-height: 1.2em;}#sk-container-id-1 div.sk-label-container {text-align: center;}#sk-container-id-1 div.sk-container {/* jupyter's `normalize.less` sets `[hidden] { display: none; }` but bootstrap.min.css set `[hidden] { display: none !important; }` so we also need the `!important` here to be able to override the default hidden behavior on the sphinx rendered scikit-learn.org. See: https://github.com/scikit-learn/scikit-learn/issues/21755 */display: inline-block !important;position: relative;}#sk-container-id-1 div.sk-text-repr-fallback {display: none;}</style><div id=\"sk-container-id-1\" class=\"sk-top-container\"><div class=\"sk-text-repr-fallback\"><pre>NMF(n_components=5, random_state=42)</pre><b>In a Jupyter environment, please rerun this cell to show the HTML representation or trust the notebook. <br />On GitHub, the HTML representation is unable to render, please try loading this page with nbviewer.org.</b></div><div class=\"sk-container\" hidden><div class=\"sk-item\"><div class=\"sk-estimator sk-toggleable\"><input class=\"sk-toggleable__control sk-hidden--visually\" id=\"sk-estimator-id-1\" type=\"checkbox\" checked><label for=\"sk-estimator-id-1\" class=\"sk-toggleable__label sk-toggleable__label-arrow\">NMF</label><div class=\"sk-toggleable__content\"><pre>NMF(n_components=5, random_state=42)</pre></div></div></div></div></div>"
      ],
      "text/plain": [
       "NMF(n_components=5, random_state=42)"
      ]
     },
     "execution_count": 26,
     "metadata": {},
     "output_type": "execute_result"
    }
   ],
   "source": [
    "nmf_model = NMF(n_components = 5, random_state=42)\n",
    "nmf_model.fit(dtm)"
   ]
  },
  {
   "cell_type": "code",
   "execution_count": 27,
   "metadata": {},
   "outputs": [
    {
     "name": "stdout",
     "output_type": "stream",
     "text": [
      "The top 15 words for topic number 0\n",
      "['relief', 'fha', 'arm', 'adjustable', 'fl', 'yes', 'fixed', 'ca', 'conventional', 'referral', 'loan', 'collection', 'foreclosure', 'modification', 'mortgage']\n",
      "\n",
      "\n",
      "The top 15 words for topic number 1\n",
      "['ca', 'monetary', 'relief', 'management', 'opening', 'closing', 'managing', 'referral', 'deposit', 'withdrawal', 'saving', 'service', 'bank', 'checking', 'account']\n",
      "\n",
      "\n",
      "The top 15 words for topic number 2\n",
      "['billing', 'company', 'shown', 'monetary', 'relief', 'dispute', 'problem', 'statement', 'purchase', 'charge', 'purpose', 'general', 'prepaid', 'credit', 'card']\n",
      "\n",
      "\n",
      "The top 15 words for topic number 3\n",
      "['check', 'time', 'credit', 'payment', 'did', 'told', 'bank', 'money', 'report', '00', 'dollar', 'wa', 'chase', 'xx', 'xxxx']\n",
      "\n",
      "\n",
      "The top 15 words for topic number 4\n",
      "['relief', 'ca', 'trouble', 'yes', 'process', 'home', 'referral', 'fixed', 'account', 'conventional', 'loan', 'payment', 'servicing', 'escrow', 'mortgage']\n",
      "\n",
      "\n"
     ]
    }
   ],
   "source": [
    "for index,topic in enumerate(nmf_model.components_):\n",
    "    print(f\"The top 15 words for topic number {index}\")\n",
    "    print([tfidf.get_feature_names_out()[i] for i in topic.argsort()[-15:]])\n",
    "    print('\\n')"
   ]
  },
  {
   "attachments": {},
   "cell_type": "markdown",
   "metadata": {},
   "source": [
    "#### estimate topic models\n",
    "Topic 0 -> Mortgage / Loan\n",
    "####\n",
    "Topic 1 -> Bank account Services\n",
    "####\n",
    "Topic 2 -> Credit card / Prepaid card\n",
    "####\n",
    "Topic 3 -> other\n",
    "####\n",
    "Topic 4 ->Theft / Dispute reporting"
   ]
  },
  {
   "cell_type": "code",
   "execution_count": 29,
   "metadata": {},
   "outputs": [
    {
     "data": {
      "text/html": [
       "<div>\n",
       "<style scoped>\n",
       "    .dataframe tbody tr th:only-of-type {\n",
       "        vertical-align: middle;\n",
       "    }\n",
       "\n",
       "    .dataframe tbody tr th {\n",
       "        vertical-align: top;\n",
       "    }\n",
       "\n",
       "    .dataframe thead th {\n",
       "        text-align: right;\n",
       "    }\n",
       "</style>\n",
       "<table border=\"1\" class=\"dataframe\">\n",
       "  <thead>\n",
       "    <tr style=\"text-align: right;\">\n",
       "      <th></th>\n",
       "      <th>comb_text</th>\n",
       "      <th>Topic</th>\n",
       "    </tr>\n",
       "  </thead>\n",
       "  <tbody>\n",
       "    <tr>\n",
       "      <th>0</th>\n",
       "      <td>CA attempt to collect debt not owed debt colle...</td>\n",
       "      <td>2</td>\n",
       "    </tr>\n",
       "    <tr>\n",
       "      <th>1</th>\n",
       "      <td>Servicemember GA written notification about de...</td>\n",
       "      <td>3</td>\n",
       "    </tr>\n",
       "    <tr>\n",
       "      <th>2</th>\n",
       "      <td>TX other feature   term   or problem credit ca...</td>\n",
       "      <td>3</td>\n",
       "    </tr>\n",
       "    <tr>\n",
       "      <th>3</th>\n",
       "      <td>MI trouble during payment process mortgage   c...</td>\n",
       "      <td>4</td>\n",
       "    </tr>\n",
       "    <tr>\n",
       "      <th>4</th>\n",
       "      <td>NY fee or interest credit card or prepaid card...</td>\n",
       "      <td>2</td>\n",
       "    </tr>\n",
       "    <tr>\n",
       "      <th>...</th>\n",
       "      <td>...</td>\n",
       "      <td>...</td>\n",
       "    </tr>\n",
       "    <tr>\n",
       "      <th>78308</th>\n",
       "      <td>NJ closing an account checking or saving accou...</td>\n",
       "      <td>1</td>\n",
       "    </tr>\n",
       "    <tr>\n",
       "      <th>78309</th>\n",
       "      <td>CA other feature   term   or problem credit ca...</td>\n",
       "      <td>3</td>\n",
       "    </tr>\n",
       "    <tr>\n",
       "      <th>78310</th>\n",
       "      <td>CA problem with a lender or other company char...</td>\n",
       "      <td>3</td>\n",
       "    </tr>\n",
       "    <tr>\n",
       "      <th>78311</th>\n",
       "      <td>PA other feature   term   or problem credit ca...</td>\n",
       "      <td>3</td>\n",
       "    </tr>\n",
       "    <tr>\n",
       "      <th>78312</th>\n",
       "      <td>MI payment to acct not credited payday loan   ...</td>\n",
       "      <td>3</td>\n",
       "    </tr>\n",
       "  </tbody>\n",
       "</table>\n",
       "<p>78313 rows × 2 columns</p>\n",
       "</div>"
      ],
      "text/plain": [
       "                                               comb_text  Topic\n",
       "0      CA attempt to collect debt not owed debt colle...      2\n",
       "1      Servicemember GA written notification about de...      3\n",
       "2      TX other feature   term   or problem credit ca...      3\n",
       "3      MI trouble during payment process mortgage   c...      4\n",
       "4      NY fee or interest credit card or prepaid card...      2\n",
       "...                                                  ...    ...\n",
       "78308  NJ closing an account checking or saving accou...      1\n",
       "78309  CA other feature   term   or problem credit ca...      3\n",
       "78310  CA problem with a lender or other company char...      3\n",
       "78311  PA other feature   term   or problem credit ca...      3\n",
       "78312  MI payment to acct not credited payday loan   ...      3\n",
       "\n",
       "[78313 rows x 2 columns]"
      ]
     },
     "execution_count": 29,
     "metadata": {},
     "output_type": "execute_result"
    }
   ],
   "source": [
    "topic_results = nmf_model.transform(dtm)\n",
    "final_df['Topic'] = topic_results.argmax(axis=1)\n",
    "final_df[['comb_text','Topic']]"
   ]
  },
  {
   "cell_type": "code",
   "execution_count": 30,
   "metadata": {},
   "outputs": [],
   "source": [
    "#pos tagging takes too much time \n",
    "\n",
    "# from nltk import word_tokenize, pos_tag\n",
    "# nltk.download('punkt')\n",
    "# nltk.download('averaged_perceptron_tagger')\n",
    "\n",
    "# def doc_feat(q):\n",
    "#     tokens = word_tokenize(q)\n",
    "#     pos_tags = pos_tag(tokens)\n",
    "\n",
    "#     pos_feature = ' '.join([tag for word,tag in pos_tags])\n",
    "\n",
    "#     return pos_feature\n",
    "\n",
    "# final_df['pos_tags'] = final_df['comb_text'].dropna().astype(str).apply(doc_feat)"
   ]
  },
  {
   "attachments": {},
   "cell_type": "markdown",
   "metadata": {},
   "source": [
    "### Part 7 || Model building with supervised learning (preparing text)"
   ]
  },
  {
   "cell_type": "code",
   "execution_count": 31,
   "metadata": {},
   "outputs": [
    {
     "data": {
      "text/plain": [
       "array(['CA attempt to collect debt not owed debt collection debt is not yours credit card debt Web N/A  Closed with explanation',\n",
       "       'Servicemember GA written notification about debt debt collection did  not receive enough information to verify debt credit card debt Web N/A good morning my name is xxxx xxxx and i appreciate it if you could help me put a stop to chase bank cardmember service   in 2018 i wrote to chase asking for debt verification and what they sent me a statement which is not acceptable   i am asking the bank to validate the debt   instead i been receiving mail every month from them attempting to collect a debt   i have a right to know this information a a consumer   chase account   xxxx xxxx xxxx xxxx thanks in advance for your help Closed with explanation',\n",
       "       'TX other feature   term   or problem credit card or prepaid card problem with reward from credit card general purpose credit card or charge card Web N/A i upgraded my xxxx xxxx card in xx xx 2018 and wa told by the agent who did the upgrade my anniversary date would not change   it turned the agent wa giving me the wrong information in order to upgrade the account   xxxx changed my anniversary date from xx xx xxxx to xx xx xxxx without my consent   xxxx ha the recording of the agent who wa misled me Closed with explanation',\n",
       "       ...,\n",
       "       'CA problem with a lender or other company charging your account checking or saving account transaction wa not authorized checking account Web N/A i am not familiar with xxxx pay and did not understand the great risk this provides to consumer   i believed this to be safe a it wa through my chase bank app   i have been with chase for almost 20 year and trust their mobile banking and now am sadly regretful   i am being told to deal with the merchant except the merchant ha refused to answer my inquiry and now shut down communication   the website of the said merchant look entirely legitamite and is even using the face of highly successful brand with individual linked to their social medium without their consent   in performing research of the phone number and other associated information available through pi it is very clear this merchant is continually creating new account title holder to perpetuate this cycle of fraud   furthermore a this is a non fixed voip being used i believe they are fraudulently using the identity of the real xxxx xxxx chase bank told me they wouldnt even investigate   report this to xxxx or allow me to file a report or take any potential recourse for the matter   there isnt even a protocol in place to address this issue yet   the chase mobile app verbiage make a point to deceptively position this app a under the branch of chase banking service and a such   imply a degree of entitlement to it customer service protection protocol   chase ha your back which read on the very same link a the xxxx tab      is most certainly not true   this place consumer at risk when using this mobile service and doe not flag the concern of chase in the slightest   at minimum the risk of using xxxx on your mobile banking app must realistically be made aware to the public a it stand to be potentially devastating i have plan to file report with all corresponding authority a well a notify and contact the individual whose identity is being misused to inform him   i also intend to urge my neighbor who work in television that the news network should perhaps present the risk of using xxxx and xxxx integrated banking apps to the public   i understand fraud and scamming are overwhelming rampant but a banking mogul such a chase not having any recourse of action is simply a risk that need to be disclosed more throughly   i would not have clicked on the to link to the extent i did if i would have been better informed Closed with explanation',\n",
       "       'PA other feature   term   or problem credit card or prepaid card problem with balance transfer general purpose credit card or charge card Web N/A i have had flawless credit for 30 yr   i  have had chase credit card      chase freedom    specifically since xxxx with no problem ever   i  have done many balance transfer in my life   so i have plenty of experience   i recently did a balance transfer with chase freedom for   dollar 9k 00     did many with other chase card   but apparently not    freeedom      when i got my first bill   my minimum payment wa   dollar 470 00     i wa shocked   i immediately called on xx xx xxxx   the representative told me that the min payment wa so high bc they were making me pay the    balance transfer fee    up front   but my future payment would be around   dollar 90 00     1 percent of total balance   which is standard   and the rate they advertise   i went to pay the next payment on xx xx xxxx   wa once again shocked to see my minimum payment wa   dollar 440 00     i paid it   but i have been trying to work this out with chase ever since   apparently   the representative wa wrong   i am actually expected to pay 5 percent   instead of the standard 1 percent they normally charge   bc that wa written in my    user agreement    paperwork back in xx xx xxxx     28 year ago       they currently charge 1 percent to everyone else in the world   my other card   including chase   are all 1 percent   this   dollar 440 00   is an unreasonable amt to expect someone to pay for 1 credit card   i have kid   many other bill to pay   they never warned me they were so    off the chart    with their minimum payment percentage     except for my original paperwork in xx xx xxxx     they offer everyone else 1 percent term   they change their    term    anytime it benefit them   but wo  not budge to lower it to make this payment more affordable   reasonable   so   i also asked them   a soon a i found this out   to refund my   dollar 360 00   transfer fee so i could use it to transfer the balance to a different card with a more reasonable minimum payment   they refused   i also asked if they would transfer to my chase slate card   which ha 1 percent min pmt   they also refused   they will not work with me at all   i am a responsible working person   i would like to preserve my good credit   i could easily transfer again to a different card   but i  d have to pay another lump sum of dollar again Closed with monetary relief',\n",
       "       'MI payment to acct not credited payday loan     Web Yes roughly 10  year ago i closed out my account with jp morgan chase bank xxxx in order to close out an unsecured line of credit i had to pay it off   i did that to close out my account roughly   dollar 500 00   payment when i closed out the account   and now i get this late payment that showed up on my credit report after 10  year stating i owe close to   dollar 900 00   dollar   i have never had any payment schedule or notification in the 10  year because i paid it off   upon calling them i am told i need to show proof i paid it off   i would like to think that if indeed i had not paid it off   which i did   i would have immediately received late payment notification   i left chase bank because of some poor customer service and charge that were way out of line with the other banking institution Closed with explanation'],\n",
       "      dtype=object)"
      ]
     },
     "execution_count": 31,
     "metadata": {},
     "output_type": "execute_result"
    }
   ],
   "source": [
    "X = final_df['comb_text'].values\n",
    "X"
   ]
  },
  {
   "cell_type": "code",
   "execution_count": 32,
   "metadata": {},
   "outputs": [
    {
     "data": {
      "text/plain": [
       "78313"
      ]
     },
     "execution_count": 32,
     "metadata": {},
     "output_type": "execute_result"
    }
   ],
   "source": [
    "len(X)"
   ]
  },
  {
   "cell_type": "code",
   "execution_count": 33,
   "metadata": {},
   "outputs": [
    {
     "data": {
      "text/plain": [
       "array([2, 3, 3, ..., 3, 3, 3])"
      ]
     },
     "execution_count": 33,
     "metadata": {},
     "output_type": "execute_result"
    }
   ],
   "source": [
    "y = final_df['Topic'].values\n",
    "y"
   ]
  },
  {
   "cell_type": "code",
   "execution_count": 34,
   "metadata": {},
   "outputs": [
    {
     "data": {
      "text/plain": [
       "78313"
      ]
     },
     "execution_count": 34,
     "metadata": {},
     "output_type": "execute_result"
    }
   ],
   "source": [
    "len(y)"
   ]
  },
  {
   "cell_type": "code",
   "execution_count": 35,
   "metadata": {},
   "outputs": [],
   "source": [
    "tf_model = TfidfVectorizer(max_features = 5000)\n",
    "X_data = tf_model.fit_transform(X)"
   ]
  },
  {
   "cell_type": "code",
   "execution_count": 36,
   "metadata": {},
   "outputs": [],
   "source": [
    "from sklearn.model_selection import train_test_split\n",
    "\n",
    "X_train, X_test, y_train, y_test = train_test_split(X_data, y , test_size=0.2,random_state=42)"
   ]
  },
  {
   "cell_type": "code",
   "execution_count": 37,
   "metadata": {},
   "outputs": [
    {
     "name": "stdout",
     "output_type": "stream",
     "text": [
      "X train shape:  (62650, 5000)\n",
      "X test shape:  (15663, 5000)\n",
      "y train shape:  (62650,)\n",
      "y test shape:  (15663,)\n"
     ]
    }
   ],
   "source": [
    "print('X train shape: ', X_train.shape)\n",
    "print('X test shape: ', X_test.shape)\n",
    "print('y train shape: ', y_train.shape)\n",
    "print('y test shape: ', y_test.shape)"
   ]
  },
  {
   "attachments": {},
   "cell_type": "markdown",
   "metadata": {},
   "source": [
    "### Part 8 || Model Training and evaluation"
   ]
  },
  {
   "attachments": {},
   "cell_type": "markdown",
   "metadata": {},
   "source": [
    "#### i. Logistic Regression"
   ]
  },
  {
   "cell_type": "code",
   "execution_count": 38,
   "metadata": {},
   "outputs": [
    {
     "data": {
      "text/html": [
       "<style>#sk-container-id-2 {color: black;}#sk-container-id-2 pre{padding: 0;}#sk-container-id-2 div.sk-toggleable {background-color: white;}#sk-container-id-2 label.sk-toggleable__label {cursor: pointer;display: block;width: 100%;margin-bottom: 0;padding: 0.3em;box-sizing: border-box;text-align: center;}#sk-container-id-2 label.sk-toggleable__label-arrow:before {content: \"▸\";float: left;margin-right: 0.25em;color: #696969;}#sk-container-id-2 label.sk-toggleable__label-arrow:hover:before {color: black;}#sk-container-id-2 div.sk-estimator:hover label.sk-toggleable__label-arrow:before {color: black;}#sk-container-id-2 div.sk-toggleable__content {max-height: 0;max-width: 0;overflow: hidden;text-align: left;background-color: #f0f8ff;}#sk-container-id-2 div.sk-toggleable__content pre {margin: 0.2em;color: black;border-radius: 0.25em;background-color: #f0f8ff;}#sk-container-id-2 input.sk-toggleable__control:checked~div.sk-toggleable__content {max-height: 200px;max-width: 100%;overflow: auto;}#sk-container-id-2 input.sk-toggleable__control:checked~label.sk-toggleable__label-arrow:before {content: \"▾\";}#sk-container-id-2 div.sk-estimator input.sk-toggleable__control:checked~label.sk-toggleable__label {background-color: #d4ebff;}#sk-container-id-2 div.sk-label input.sk-toggleable__control:checked~label.sk-toggleable__label {background-color: #d4ebff;}#sk-container-id-2 input.sk-hidden--visually {border: 0;clip: rect(1px 1px 1px 1px);clip: rect(1px, 1px, 1px, 1px);height: 1px;margin: -1px;overflow: hidden;padding: 0;position: absolute;width: 1px;}#sk-container-id-2 div.sk-estimator {font-family: monospace;background-color: #f0f8ff;border: 1px dotted black;border-radius: 0.25em;box-sizing: border-box;margin-bottom: 0.5em;}#sk-container-id-2 div.sk-estimator:hover {background-color: #d4ebff;}#sk-container-id-2 div.sk-parallel-item::after {content: \"\";width: 100%;border-bottom: 1px solid gray;flex-grow: 1;}#sk-container-id-2 div.sk-label:hover label.sk-toggleable__label {background-color: #d4ebff;}#sk-container-id-2 div.sk-serial::before {content: \"\";position: absolute;border-left: 1px solid gray;box-sizing: border-box;top: 0;bottom: 0;left: 50%;z-index: 0;}#sk-container-id-2 div.sk-serial {display: flex;flex-direction: column;align-items: center;background-color: white;padding-right: 0.2em;padding-left: 0.2em;position: relative;}#sk-container-id-2 div.sk-item {position: relative;z-index: 1;}#sk-container-id-2 div.sk-parallel {display: flex;align-items: stretch;justify-content: center;background-color: white;position: relative;}#sk-container-id-2 div.sk-item::before, #sk-container-id-2 div.sk-parallel-item::before {content: \"\";position: absolute;border-left: 1px solid gray;box-sizing: border-box;top: 0;bottom: 0;left: 50%;z-index: -1;}#sk-container-id-2 div.sk-parallel-item {display: flex;flex-direction: column;z-index: 1;position: relative;background-color: white;}#sk-container-id-2 div.sk-parallel-item:first-child::after {align-self: flex-end;width: 50%;}#sk-container-id-2 div.sk-parallel-item:last-child::after {align-self: flex-start;width: 50%;}#sk-container-id-2 div.sk-parallel-item:only-child::after {width: 0;}#sk-container-id-2 div.sk-dashed-wrapped {border: 1px dashed gray;margin: 0 0.4em 0.5em 0.4em;box-sizing: border-box;padding-bottom: 0.4em;background-color: white;}#sk-container-id-2 div.sk-label label {font-family: monospace;font-weight: bold;display: inline-block;line-height: 1.2em;}#sk-container-id-2 div.sk-label-container {text-align: center;}#sk-container-id-2 div.sk-container {/* jupyter's `normalize.less` sets `[hidden] { display: none; }` but bootstrap.min.css set `[hidden] { display: none !important; }` so we also need the `!important` here to be able to override the default hidden behavior on the sphinx rendered scikit-learn.org. See: https://github.com/scikit-learn/scikit-learn/issues/21755 */display: inline-block !important;position: relative;}#sk-container-id-2 div.sk-text-repr-fallback {display: none;}</style><div id=\"sk-container-id-2\" class=\"sk-top-container\"><div class=\"sk-text-repr-fallback\"><pre>LogisticRegression(max_iter=10)</pre><b>In a Jupyter environment, please rerun this cell to show the HTML representation or trust the notebook. <br />On GitHub, the HTML representation is unable to render, please try loading this page with nbviewer.org.</b></div><div class=\"sk-container\" hidden><div class=\"sk-item\"><div class=\"sk-estimator sk-toggleable\"><input class=\"sk-toggleable__control sk-hidden--visually\" id=\"sk-estimator-id-2\" type=\"checkbox\" checked><label for=\"sk-estimator-id-2\" class=\"sk-toggleable__label sk-toggleable__label-arrow\">LogisticRegression</label><div class=\"sk-toggleable__content\"><pre>LogisticRegression(max_iter=10)</pre></div></div></div></div></div>"
      ],
      "text/plain": [
       "LogisticRegression(max_iter=10)"
      ]
     },
     "execution_count": 38,
     "metadata": {},
     "output_type": "execute_result"
    }
   ],
   "source": [
    "\n",
    "from sklearn.model_selection import cross_val_score\n",
    "from sklearn.linear_model import LogisticRegression\n",
    "\n",
    "clf1 = LogisticRegression(max_iter=10)\n",
    "clf1.fit(X_train,y_train)"
   ]
  },
  {
   "cell_type": "code",
   "execution_count": 39,
   "metadata": {},
   "outputs": [
    {
     "name": "stdout",
     "output_type": "stream",
     "text": [
      "cv scores:  [0.97701516 0.97350359 0.9792498  0.97318436 0.97621708 0.97270551\n",
      " 0.97478053 0.97254589 0.97238627 0.9763767 ]\n",
      "Mean cv score:  0.9747964884277733\n",
      "Standard deviation of cv score:  0.002208777523335084\n"
     ]
    }
   ],
   "source": [
    "cv_scores = cross_val_score(clf1, X_train, y_train, cv = 10)\n",
    "print('cv scores: ', cv_scores)\n",
    "print('Mean cv score: ', cv_scores.mean())\n",
    "print('Standard deviation of cv score: ', cv_scores.std())"
   ]
  },
  {
   "cell_type": "code",
   "execution_count": 40,
   "metadata": {},
   "outputs": [
    {
     "name": "stdout",
     "output_type": "stream",
     "text": [
      "Accuracy :  0.9721636978867394\n"
     ]
    }
   ],
   "source": [
    "accuracy1 = clf1.score(X_test,y_test)\n",
    "print(\"Accuracy : \",accuracy1)"
   ]
  },
  {
   "cell_type": "code",
   "execution_count": 41,
   "metadata": {},
   "outputs": [
    {
     "name": "stdout",
     "output_type": "stream",
     "text": [
      "Classidication report: \n",
      "              precision    recall  f1-score   support\n",
      "\n",
      "           0       0.97      0.99      0.98      2393\n",
      "           1       0.99      0.97      0.98      3409\n",
      "           2       0.98      0.98      0.98      4219\n",
      "           3       0.94      0.95      0.94      3463\n",
      "           4       0.99      0.98      0.98      2179\n",
      "\n",
      "    accuracy                           0.97     15663\n",
      "   macro avg       0.97      0.97      0.97     15663\n",
      "weighted avg       0.97      0.97      0.97     15663\n",
      "\n"
     ]
    }
   ],
   "source": [
    "pred1 = clf1.predict(X_test)\n",
    "from sklearn.metrics import confusion_matrix, classification_report\n",
    "\n",
    "print('Classidication report: ')\n",
    "print(classification_report(y_test,pred1))"
   ]
  },
  {
   "attachments": {},
   "cell_type": "markdown",
   "metadata": {},
   "source": [
    "#### ii.Decision Tree"
   ]
  },
  {
   "cell_type": "code",
   "execution_count": 42,
   "metadata": {},
   "outputs": [
    {
     "data": {
      "text/html": [
       "<style>#sk-container-id-3 {color: black;}#sk-container-id-3 pre{padding: 0;}#sk-container-id-3 div.sk-toggleable {background-color: white;}#sk-container-id-3 label.sk-toggleable__label {cursor: pointer;display: block;width: 100%;margin-bottom: 0;padding: 0.3em;box-sizing: border-box;text-align: center;}#sk-container-id-3 label.sk-toggleable__label-arrow:before {content: \"▸\";float: left;margin-right: 0.25em;color: #696969;}#sk-container-id-3 label.sk-toggleable__label-arrow:hover:before {color: black;}#sk-container-id-3 div.sk-estimator:hover label.sk-toggleable__label-arrow:before {color: black;}#sk-container-id-3 div.sk-toggleable__content {max-height: 0;max-width: 0;overflow: hidden;text-align: left;background-color: #f0f8ff;}#sk-container-id-3 div.sk-toggleable__content pre {margin: 0.2em;color: black;border-radius: 0.25em;background-color: #f0f8ff;}#sk-container-id-3 input.sk-toggleable__control:checked~div.sk-toggleable__content {max-height: 200px;max-width: 100%;overflow: auto;}#sk-container-id-3 input.sk-toggleable__control:checked~label.sk-toggleable__label-arrow:before {content: \"▾\";}#sk-container-id-3 div.sk-estimator input.sk-toggleable__control:checked~label.sk-toggleable__label {background-color: #d4ebff;}#sk-container-id-3 div.sk-label input.sk-toggleable__control:checked~label.sk-toggleable__label {background-color: #d4ebff;}#sk-container-id-3 input.sk-hidden--visually {border: 0;clip: rect(1px 1px 1px 1px);clip: rect(1px, 1px, 1px, 1px);height: 1px;margin: -1px;overflow: hidden;padding: 0;position: absolute;width: 1px;}#sk-container-id-3 div.sk-estimator {font-family: monospace;background-color: #f0f8ff;border: 1px dotted black;border-radius: 0.25em;box-sizing: border-box;margin-bottom: 0.5em;}#sk-container-id-3 div.sk-estimator:hover {background-color: #d4ebff;}#sk-container-id-3 div.sk-parallel-item::after {content: \"\";width: 100%;border-bottom: 1px solid gray;flex-grow: 1;}#sk-container-id-3 div.sk-label:hover label.sk-toggleable__label {background-color: #d4ebff;}#sk-container-id-3 div.sk-serial::before {content: \"\";position: absolute;border-left: 1px solid gray;box-sizing: border-box;top: 0;bottom: 0;left: 50%;z-index: 0;}#sk-container-id-3 div.sk-serial {display: flex;flex-direction: column;align-items: center;background-color: white;padding-right: 0.2em;padding-left: 0.2em;position: relative;}#sk-container-id-3 div.sk-item {position: relative;z-index: 1;}#sk-container-id-3 div.sk-parallel {display: flex;align-items: stretch;justify-content: center;background-color: white;position: relative;}#sk-container-id-3 div.sk-item::before, #sk-container-id-3 div.sk-parallel-item::before {content: \"\";position: absolute;border-left: 1px solid gray;box-sizing: border-box;top: 0;bottom: 0;left: 50%;z-index: -1;}#sk-container-id-3 div.sk-parallel-item {display: flex;flex-direction: column;z-index: 1;position: relative;background-color: white;}#sk-container-id-3 div.sk-parallel-item:first-child::after {align-self: flex-end;width: 50%;}#sk-container-id-3 div.sk-parallel-item:last-child::after {align-self: flex-start;width: 50%;}#sk-container-id-3 div.sk-parallel-item:only-child::after {width: 0;}#sk-container-id-3 div.sk-dashed-wrapped {border: 1px dashed gray;margin: 0 0.4em 0.5em 0.4em;box-sizing: border-box;padding-bottom: 0.4em;background-color: white;}#sk-container-id-3 div.sk-label label {font-family: monospace;font-weight: bold;display: inline-block;line-height: 1.2em;}#sk-container-id-3 div.sk-label-container {text-align: center;}#sk-container-id-3 div.sk-container {/* jupyter's `normalize.less` sets `[hidden] { display: none; }` but bootstrap.min.css set `[hidden] { display: none !important; }` so we also need the `!important` here to be able to override the default hidden behavior on the sphinx rendered scikit-learn.org. See: https://github.com/scikit-learn/scikit-learn/issues/21755 */display: inline-block !important;position: relative;}#sk-container-id-3 div.sk-text-repr-fallback {display: none;}</style><div id=\"sk-container-id-3\" class=\"sk-top-container\"><div class=\"sk-text-repr-fallback\"><pre>DecisionTreeClassifier(random_state=42)</pre><b>In a Jupyter environment, please rerun this cell to show the HTML representation or trust the notebook. <br />On GitHub, the HTML representation is unable to render, please try loading this page with nbviewer.org.</b></div><div class=\"sk-container\" hidden><div class=\"sk-item\"><div class=\"sk-estimator sk-toggleable\"><input class=\"sk-toggleable__control sk-hidden--visually\" id=\"sk-estimator-id-3\" type=\"checkbox\" checked><label for=\"sk-estimator-id-3\" class=\"sk-toggleable__label sk-toggleable__label-arrow\">DecisionTreeClassifier</label><div class=\"sk-toggleable__content\"><pre>DecisionTreeClassifier(random_state=42)</pre></div></div></div></div></div>"
      ],
      "text/plain": [
       "DecisionTreeClassifier(random_state=42)"
      ]
     },
     "execution_count": 42,
     "metadata": {},
     "output_type": "execute_result"
    }
   ],
   "source": [
    "from sklearn.tree import DecisionTreeClassifier\n",
    "\n",
    "clf2 = DecisionTreeClassifier(random_state=42)\n",
    "clf2.fit(X_train,y_train)\n"
   ]
  },
  {
   "cell_type": "code",
   "execution_count": 43,
   "metadata": {},
   "outputs": [
    {
     "name": "stdout",
     "output_type": "stream",
     "text": [
      "cv scores:  [0.96903432 0.96951317 0.97318436 0.97270551 0.97302474 0.97318436\n",
      " 0.9707901  0.96759777 0.96999202 0.97031125]\n",
      "Mean cv score:  0.9709337589784516\n",
      "Standard deviation of cv score:  0.0018892198163310938\n"
     ]
    }
   ],
   "source": [
    "cv_scores = cross_val_score(clf2,X_train,y_train, cv=10)\n",
    "print('cv scores: ', cv_scores)\n",
    "print('Mean cv score: ', cv_scores.mean())\n",
    "print('Standard deviation of cv score: ', cv_scores.std())"
   ]
  },
  {
   "cell_type": "code",
   "execution_count": 44,
   "metadata": {},
   "outputs": [
    {
     "name": "stdout",
     "output_type": "stream",
     "text": [
      "Accuracy :  0.9729936793717678\n"
     ]
    }
   ],
   "source": [
    "accuracy2 = clf2.score(X_test,y_test)\n",
    "print(\"Accuracy : \",accuracy2)"
   ]
  },
  {
   "cell_type": "code",
   "execution_count": 45,
   "metadata": {},
   "outputs": [
    {
     "name": "stdout",
     "output_type": "stream",
     "text": [
      "Classidication report: \n",
      "              precision    recall  f1-score   support\n",
      "\n",
      "           0       0.99      0.99      0.99      2393\n",
      "           1       0.98      0.98      0.98      3409\n",
      "           2       0.98      0.98      0.98      4219\n",
      "           3       0.94      0.94      0.94      3463\n",
      "           4       0.98      0.98      0.98      2179\n",
      "\n",
      "    accuracy                           0.97     15663\n",
      "   macro avg       0.97      0.97      0.97     15663\n",
      "weighted avg       0.97      0.97      0.97     15663\n",
      "\n"
     ]
    }
   ],
   "source": [
    "pred2 = clf2.predict(X_test)\n",
    "\n",
    "print('Classidication report: ')\n",
    "print(classification_report(y_test,pred2))"
   ]
  },
  {
   "attachments": {},
   "cell_type": "markdown",
   "metadata": {},
   "source": [
    "#### iii.Random Forest"
   ]
  },
  {
   "cell_type": "code",
   "execution_count": 46,
   "metadata": {},
   "outputs": [
    {
     "data": {
      "text/html": [
       "<style>#sk-container-id-4 {color: black;}#sk-container-id-4 pre{padding: 0;}#sk-container-id-4 div.sk-toggleable {background-color: white;}#sk-container-id-4 label.sk-toggleable__label {cursor: pointer;display: block;width: 100%;margin-bottom: 0;padding: 0.3em;box-sizing: border-box;text-align: center;}#sk-container-id-4 label.sk-toggleable__label-arrow:before {content: \"▸\";float: left;margin-right: 0.25em;color: #696969;}#sk-container-id-4 label.sk-toggleable__label-arrow:hover:before {color: black;}#sk-container-id-4 div.sk-estimator:hover label.sk-toggleable__label-arrow:before {color: black;}#sk-container-id-4 div.sk-toggleable__content {max-height: 0;max-width: 0;overflow: hidden;text-align: left;background-color: #f0f8ff;}#sk-container-id-4 div.sk-toggleable__content pre {margin: 0.2em;color: black;border-radius: 0.25em;background-color: #f0f8ff;}#sk-container-id-4 input.sk-toggleable__control:checked~div.sk-toggleable__content {max-height: 200px;max-width: 100%;overflow: auto;}#sk-container-id-4 input.sk-toggleable__control:checked~label.sk-toggleable__label-arrow:before {content: \"▾\";}#sk-container-id-4 div.sk-estimator input.sk-toggleable__control:checked~label.sk-toggleable__label {background-color: #d4ebff;}#sk-container-id-4 div.sk-label input.sk-toggleable__control:checked~label.sk-toggleable__label {background-color: #d4ebff;}#sk-container-id-4 input.sk-hidden--visually {border: 0;clip: rect(1px 1px 1px 1px);clip: rect(1px, 1px, 1px, 1px);height: 1px;margin: -1px;overflow: hidden;padding: 0;position: absolute;width: 1px;}#sk-container-id-4 div.sk-estimator {font-family: monospace;background-color: #f0f8ff;border: 1px dotted black;border-radius: 0.25em;box-sizing: border-box;margin-bottom: 0.5em;}#sk-container-id-4 div.sk-estimator:hover {background-color: #d4ebff;}#sk-container-id-4 div.sk-parallel-item::after {content: \"\";width: 100%;border-bottom: 1px solid gray;flex-grow: 1;}#sk-container-id-4 div.sk-label:hover label.sk-toggleable__label {background-color: #d4ebff;}#sk-container-id-4 div.sk-serial::before {content: \"\";position: absolute;border-left: 1px solid gray;box-sizing: border-box;top: 0;bottom: 0;left: 50%;z-index: 0;}#sk-container-id-4 div.sk-serial {display: flex;flex-direction: column;align-items: center;background-color: white;padding-right: 0.2em;padding-left: 0.2em;position: relative;}#sk-container-id-4 div.sk-item {position: relative;z-index: 1;}#sk-container-id-4 div.sk-parallel {display: flex;align-items: stretch;justify-content: center;background-color: white;position: relative;}#sk-container-id-4 div.sk-item::before, #sk-container-id-4 div.sk-parallel-item::before {content: \"\";position: absolute;border-left: 1px solid gray;box-sizing: border-box;top: 0;bottom: 0;left: 50%;z-index: -1;}#sk-container-id-4 div.sk-parallel-item {display: flex;flex-direction: column;z-index: 1;position: relative;background-color: white;}#sk-container-id-4 div.sk-parallel-item:first-child::after {align-self: flex-end;width: 50%;}#sk-container-id-4 div.sk-parallel-item:last-child::after {align-self: flex-start;width: 50%;}#sk-container-id-4 div.sk-parallel-item:only-child::after {width: 0;}#sk-container-id-4 div.sk-dashed-wrapped {border: 1px dashed gray;margin: 0 0.4em 0.5em 0.4em;box-sizing: border-box;padding-bottom: 0.4em;background-color: white;}#sk-container-id-4 div.sk-label label {font-family: monospace;font-weight: bold;display: inline-block;line-height: 1.2em;}#sk-container-id-4 div.sk-label-container {text-align: center;}#sk-container-id-4 div.sk-container {/* jupyter's `normalize.less` sets `[hidden] { display: none; }` but bootstrap.min.css set `[hidden] { display: none !important; }` so we also need the `!important` here to be able to override the default hidden behavior on the sphinx rendered scikit-learn.org. See: https://github.com/scikit-learn/scikit-learn/issues/21755 */display: inline-block !important;position: relative;}#sk-container-id-4 div.sk-text-repr-fallback {display: none;}</style><div id=\"sk-container-id-4\" class=\"sk-top-container\"><div class=\"sk-text-repr-fallback\"><pre>RandomForestClassifier(random_state=42)</pre><b>In a Jupyter environment, please rerun this cell to show the HTML representation or trust the notebook. <br />On GitHub, the HTML representation is unable to render, please try loading this page with nbviewer.org.</b></div><div class=\"sk-container\" hidden><div class=\"sk-item\"><div class=\"sk-estimator sk-toggleable\"><input class=\"sk-toggleable__control sk-hidden--visually\" id=\"sk-estimator-id-4\" type=\"checkbox\" checked><label for=\"sk-estimator-id-4\" class=\"sk-toggleable__label sk-toggleable__label-arrow\">RandomForestClassifier</label><div class=\"sk-toggleable__content\"><pre>RandomForestClassifier(random_state=42)</pre></div></div></div></div></div>"
      ],
      "text/plain": [
       "RandomForestClassifier(random_state=42)"
      ]
     },
     "execution_count": 46,
     "metadata": {},
     "output_type": "execute_result"
    }
   ],
   "source": [
    "from sklearn.ensemble import RandomForestClassifier\n",
    "clf3 = RandomForestClassifier(random_state=42)\n",
    "clf3.fit(X_train,y_train)"
   ]
  },
  {
   "cell_type": "code",
   "execution_count": 47,
   "metadata": {},
   "outputs": [
    {
     "name": "stdout",
     "output_type": "stream",
     "text": [
      "cv scores:  [0.96264964 0.95865922 0.96296887 0.96552275 0.96073424 0.96568236\n",
      " 0.96951317 0.96312849 0.96312849 0.96328811]\n",
      "Mean cv score:  0.9635275339185952\n",
      "Standard deviation of cv score:  0.002782329401181734\n"
     ]
    }
   ],
   "source": [
    "cv_scores = cross_val_score(clf3, X_train, y_train, cv = 10)\n",
    "print('cv scores: ', cv_scores)\n",
    "print('Mean cv score: ', cv_scores.mean())\n",
    "print('Standard deviation of cv score: ', cv_scores.std())"
   ]
  },
  {
   "cell_type": "code",
   "execution_count": 48,
   "metadata": {},
   "outputs": [
    {
     "name": "stdout",
     "output_type": "stream",
     "text": [
      "Accuracy :  0.9621400753367809\n"
     ]
    }
   ],
   "source": [
    "accuracy3 = clf3.score(X_test,y_test)\n",
    "print(\"Accuracy : \",accuracy3)"
   ]
  },
  {
   "cell_type": "code",
   "execution_count": 49,
   "metadata": {},
   "outputs": [
    {
     "name": "stdout",
     "output_type": "stream",
     "text": [
      "Classidication report: \n",
      "              precision    recall  f1-score   support\n",
      "\n",
      "           0       0.99      0.99      0.99      2393\n",
      "           1       1.00      0.95      0.97      3409\n",
      "           2       0.99      0.94      0.97      4219\n",
      "           3       0.87      0.98      0.92      3463\n",
      "           4       1.00      0.96      0.98      2179\n",
      "\n",
      "    accuracy                           0.96     15663\n",
      "   macro avg       0.97      0.96      0.97     15663\n",
      "weighted avg       0.97      0.96      0.96     15663\n",
      "\n"
     ]
    }
   ],
   "source": [
    "pred3 = clf3.predict(X_test)\n",
    "\n",
    "print('Classidication report: ')\n",
    "print(classification_report(y_test,pred3))"
   ]
  },
  {
   "attachments": {},
   "cell_type": "markdown",
   "metadata": {},
   "source": [
    "#### iv.Naive Bayes\n"
   ]
  },
  {
   "cell_type": "code",
   "execution_count": 50,
   "metadata": {},
   "outputs": [
    {
     "data": {
      "text/html": [
       "<style>#sk-container-id-5 {color: black;}#sk-container-id-5 pre{padding: 0;}#sk-container-id-5 div.sk-toggleable {background-color: white;}#sk-container-id-5 label.sk-toggleable__label {cursor: pointer;display: block;width: 100%;margin-bottom: 0;padding: 0.3em;box-sizing: border-box;text-align: center;}#sk-container-id-5 label.sk-toggleable__label-arrow:before {content: \"▸\";float: left;margin-right: 0.25em;color: #696969;}#sk-container-id-5 label.sk-toggleable__label-arrow:hover:before {color: black;}#sk-container-id-5 div.sk-estimator:hover label.sk-toggleable__label-arrow:before {color: black;}#sk-container-id-5 div.sk-toggleable__content {max-height: 0;max-width: 0;overflow: hidden;text-align: left;background-color: #f0f8ff;}#sk-container-id-5 div.sk-toggleable__content pre {margin: 0.2em;color: black;border-radius: 0.25em;background-color: #f0f8ff;}#sk-container-id-5 input.sk-toggleable__control:checked~div.sk-toggleable__content {max-height: 200px;max-width: 100%;overflow: auto;}#sk-container-id-5 input.sk-toggleable__control:checked~label.sk-toggleable__label-arrow:before {content: \"▾\";}#sk-container-id-5 div.sk-estimator input.sk-toggleable__control:checked~label.sk-toggleable__label {background-color: #d4ebff;}#sk-container-id-5 div.sk-label input.sk-toggleable__control:checked~label.sk-toggleable__label {background-color: #d4ebff;}#sk-container-id-5 input.sk-hidden--visually {border: 0;clip: rect(1px 1px 1px 1px);clip: rect(1px, 1px, 1px, 1px);height: 1px;margin: -1px;overflow: hidden;padding: 0;position: absolute;width: 1px;}#sk-container-id-5 div.sk-estimator {font-family: monospace;background-color: #f0f8ff;border: 1px dotted black;border-radius: 0.25em;box-sizing: border-box;margin-bottom: 0.5em;}#sk-container-id-5 div.sk-estimator:hover {background-color: #d4ebff;}#sk-container-id-5 div.sk-parallel-item::after {content: \"\";width: 100%;border-bottom: 1px solid gray;flex-grow: 1;}#sk-container-id-5 div.sk-label:hover label.sk-toggleable__label {background-color: #d4ebff;}#sk-container-id-5 div.sk-serial::before {content: \"\";position: absolute;border-left: 1px solid gray;box-sizing: border-box;top: 0;bottom: 0;left: 50%;z-index: 0;}#sk-container-id-5 div.sk-serial {display: flex;flex-direction: column;align-items: center;background-color: white;padding-right: 0.2em;padding-left: 0.2em;position: relative;}#sk-container-id-5 div.sk-item {position: relative;z-index: 1;}#sk-container-id-5 div.sk-parallel {display: flex;align-items: stretch;justify-content: center;background-color: white;position: relative;}#sk-container-id-5 div.sk-item::before, #sk-container-id-5 div.sk-parallel-item::before {content: \"\";position: absolute;border-left: 1px solid gray;box-sizing: border-box;top: 0;bottom: 0;left: 50%;z-index: -1;}#sk-container-id-5 div.sk-parallel-item {display: flex;flex-direction: column;z-index: 1;position: relative;background-color: white;}#sk-container-id-5 div.sk-parallel-item:first-child::after {align-self: flex-end;width: 50%;}#sk-container-id-5 div.sk-parallel-item:last-child::after {align-self: flex-start;width: 50%;}#sk-container-id-5 div.sk-parallel-item:only-child::after {width: 0;}#sk-container-id-5 div.sk-dashed-wrapped {border: 1px dashed gray;margin: 0 0.4em 0.5em 0.4em;box-sizing: border-box;padding-bottom: 0.4em;background-color: white;}#sk-container-id-5 div.sk-label label {font-family: monospace;font-weight: bold;display: inline-block;line-height: 1.2em;}#sk-container-id-5 div.sk-label-container {text-align: center;}#sk-container-id-5 div.sk-container {/* jupyter's `normalize.less` sets `[hidden] { display: none; }` but bootstrap.min.css set `[hidden] { display: none !important; }` so we also need the `!important` here to be able to override the default hidden behavior on the sphinx rendered scikit-learn.org. See: https://github.com/scikit-learn/scikit-learn/issues/21755 */display: inline-block !important;position: relative;}#sk-container-id-5 div.sk-text-repr-fallback {display: none;}</style><div id=\"sk-container-id-5\" class=\"sk-top-container\"><div class=\"sk-text-repr-fallback\"><pre>MultinomialNB()</pre><b>In a Jupyter environment, please rerun this cell to show the HTML representation or trust the notebook. <br />On GitHub, the HTML representation is unable to render, please try loading this page with nbviewer.org.</b></div><div class=\"sk-container\" hidden><div class=\"sk-item\"><div class=\"sk-estimator sk-toggleable\"><input class=\"sk-toggleable__control sk-hidden--visually\" id=\"sk-estimator-id-5\" type=\"checkbox\" checked><label for=\"sk-estimator-id-5\" class=\"sk-toggleable__label sk-toggleable__label-arrow\">MultinomialNB</label><div class=\"sk-toggleable__content\"><pre>MultinomialNB()</pre></div></div></div></div></div>"
      ],
      "text/plain": [
       "MultinomialNB()"
      ]
     },
     "execution_count": 50,
     "metadata": {},
     "output_type": "execute_result"
    }
   ],
   "source": [
    "from sklearn.naive_bayes import MultinomialNB\n",
    "clf4 = MultinomialNB()\n",
    "clf4.fit(X_train,y_train)"
   ]
  },
  {
   "cell_type": "code",
   "execution_count": 51,
   "metadata": {},
   "outputs": [
    {
     "name": "stdout",
     "output_type": "stream",
     "text": [
      "cv scores:  [0.92857143 0.93144453 0.92889066 0.93431764 0.93200319]\n",
      "Mean cv score:  0.931045490822027\n",
      "Standard deviation of cv score:  0.002123564995315256\n"
     ]
    }
   ],
   "source": [
    "cv_scores = cross_val_score(clf4, X_train, y_train, cv = 5)\n",
    "print('cv scores: ', cv_scores)\n",
    "print('Mean cv score: ', cv_scores.mean())\n",
    "print('Standard deviation of cv score: ', cv_scores.std())"
   ]
  },
  {
   "cell_type": "code",
   "execution_count": 52,
   "metadata": {},
   "outputs": [
    {
     "name": "stdout",
     "output_type": "stream",
     "text": [
      "Accuracy :  0.9286854370171742\n"
     ]
    }
   ],
   "source": [
    "accuracy4 = clf4.score(X_test,y_test)\n",
    "print(\"Accuracy : \",accuracy4)"
   ]
  },
  {
   "cell_type": "code",
   "execution_count": 53,
   "metadata": {},
   "outputs": [
    {
     "name": "stdout",
     "output_type": "stream",
     "text": [
      "Classidication report: \n",
      "              precision    recall  f1-score   support\n",
      "\n",
      "           0       0.97      0.97      0.97      2393\n",
      "           1       1.00      0.92      0.96      3409\n",
      "           2       0.96      0.88      0.92      4219\n",
      "           3       0.79      0.97      0.87      3463\n",
      "           4       1.00      0.92      0.96      2179\n",
      "\n",
      "    accuracy                           0.93     15663\n",
      "   macro avg       0.94      0.93      0.94     15663\n",
      "weighted avg       0.94      0.93      0.93     15663\n",
      "\n"
     ]
    }
   ],
   "source": [
    "pred4 = clf4.predict(X_test)\n",
    "\n",
    "print('Classidication report: ')\n",
    "print(classification_report(y_test,pred4))"
   ]
  },
  {
   "attachments": {},
   "cell_type": "markdown",
   "metadata": {},
   "source": [
    "### Part 9 || Model Inference"
   ]
  },
  {
   "cell_type": "code",
   "execution_count": 57,
   "metadata": {},
   "outputs": [],
   "source": [
    "import pickle\n",
    "\n",
    "# Assuming 'model' is your trained linear regression model\n",
    "with open('logistic_regression_model.pkl', 'wb') as file:\n",
    "    pickle.dump(clf1, file)\n"
   ]
  },
  {
   "cell_type": "code",
   "execution_count": 94,
   "metadata": {},
   "outputs": [
    {
     "data": {
      "text/html": [
       "<div>\n",
       "<style scoped>\n",
       "    .dataframe tbody tr th:only-of-type {\n",
       "        vertical-align: middle;\n",
       "    }\n",
       "\n",
       "    .dataframe tbody tr th {\n",
       "        vertical-align: top;\n",
       "    }\n",
       "\n",
       "    .dataframe thead th {\n",
       "        text-align: right;\n",
       "    }\n",
       "</style>\n",
       "<table border=\"1\" class=\"dataframe\">\n",
       "  <thead>\n",
       "    <tr style=\"text-align: right;\">\n",
       "      <th></th>\n",
       "      <th>text</th>\n",
       "      <th>topic</th>\n",
       "    </tr>\n",
       "  </thead>\n",
       "  <tbody>\n",
       "    <tr>\n",
       "      <th>0</th>\n",
       "      <td>credit card transaction unsuccessful</td>\n",
       "      <td>2</td>\n",
       "    </tr>\n",
       "    <tr>\n",
       "      <th>1</th>\n",
       "      <td>opening a savings account</td>\n",
       "      <td>1</td>\n",
       "    </tr>\n",
       "    <tr>\n",
       "      <th>2</th>\n",
       "      <td>trouble processing account</td>\n",
       "      <td>4</td>\n",
       "    </tr>\n",
       "    <tr>\n",
       "      <th>3</th>\n",
       "      <td>foreclosure and modification regarding a loan</td>\n",
       "      <td>0</td>\n",
       "    </tr>\n",
       "    <tr>\n",
       "      <th>4</th>\n",
       "      <td>time of servicing</td>\n",
       "      <td>3</td>\n",
       "    </tr>\n",
       "  </tbody>\n",
       "</table>\n",
       "</div>"
      ],
      "text/plain": [
       "                                            text  topic\n",
       "0           credit card transaction unsuccessful      2\n",
       "1                      opening a savings account      1\n",
       "2                     trouble processing account      4\n",
       "3  foreclosure and modification regarding a loan      0\n",
       "4                              time of servicing      3"
      ]
     },
     "execution_count": 94,
     "metadata": {},
     "output_type": "execute_result"
    }
   ],
   "source": [
    "unseen_data = {\n",
    "    \"text\": [\n",
    "        \"credit card transaction unsuccessful\",\n",
    "        \"opening a savings account\",\n",
    "        \"trouble processing account\",\n",
    "        \"foreclosure and modification regarding a loan\",\n",
    "        \"time of servicing\",\n",
    "    ],\n",
    "    \"topic\": [2, 1, 4, 0, 3],\n",
    "}\n",
    "\n",
    "test_df = pd.DataFrame(unseen_data)\n",
    "test_df"
   ]
  },
  {
   "cell_type": "code",
   "execution_count": 95,
   "metadata": {},
   "outputs": [],
   "source": [
    "X = test_df['text'].values\n",
    "y = test_df['topic'].values"
   ]
  },
  {
   "cell_type": "code",
   "execution_count": 96,
   "metadata": {},
   "outputs": [
    {
     "name": "stdout",
     "output_type": "stream",
     "text": [
      "(5, 5000)\n"
     ]
    }
   ],
   "source": [
    "unseen_data_input = tf_model.transform(X)\n",
    "print(unseen_data_input.shape)\n",
    "\n"
   ]
  },
  {
   "cell_type": "code",
   "execution_count": 97,
   "metadata": {},
   "outputs": [
    {
     "data": {
      "text/plain": [
       "(5,)"
      ]
     },
     "execution_count": 97,
     "metadata": {},
     "output_type": "execute_result"
    }
   ],
   "source": [
    "y.shape"
   ]
  },
  {
   "cell_type": "code",
   "execution_count": 98,
   "metadata": {},
   "outputs": [
    {
     "data": {
      "text/plain": [
       "array([2, 1, 1, 0, 4])"
      ]
     },
     "execution_count": 98,
     "metadata": {},
     "output_type": "execute_result"
    }
   ],
   "source": [
    "with open('logistic_regression_model.pkl', 'rb') as file:\n",
    "    model = pickle.load(file)\n",
    "\n",
    "unseen_pred = model.predict(unseen_data_input)\n",
    "unseen_pred\n"
   ]
  },
  {
   "attachments": {},
   "cell_type": "markdown",
   "metadata": {},
   "source": []
  }
 ],
 "metadata": {
  "kernelspec": {
   "display_name": "Python 3",
   "language": "python",
   "name": "python3"
  },
  "language_info": {
   "codemirror_mode": {
    "name": "ipython",
    "version": 3
   },
   "file_extension": ".py",
   "mimetype": "text/x-python",
   "name": "python",
   "nbconvert_exporter": "python",
   "pygments_lexer": "ipython3",
   "version": "3.11.4"
  },
  "orig_nbformat": 4
 },
 "nbformat": 4,
 "nbformat_minor": 2
}
